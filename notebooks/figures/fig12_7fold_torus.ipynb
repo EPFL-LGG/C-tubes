{
 "cells": [
  {
   "cell_type": "code",
   "execution_count": null,
   "metadata": {},
   "outputs": [],
   "source": [
    "import numpy as np, torch, dill, time, os\n",
    "from Ctubes.curve_parametrizations import torus_knot_parameterization_maekawa_scholz\n",
    "from Ctubes.geometry_utils import rotate_about_axis, regular_polygon, get_bisecting_plane_normals_with_symmetry\n",
    "from Ctubes.plot_utils import plot_generatrix\n",
    "from Ctubes.tubes import Directrix, Generatrix, CTube\n",
    "from Ctubes.target_cross_sections import fix_end_cross_sections \n",
    "from Ctubes.opt import CTubeOptimizationProblem\n",
    "from Ctubes.misc_utils import get_pairings_all\n",
    "from Ctubes.path_utils import get_name, setup_paths\n",
    "\n",
    "paths = setup_paths(get_name())\n",
    "\n",
    "PI = np.pi\n",
    "TORCH_DTYPE = torch.float64\n",
    "torch.set_default_dtype(TORCH_DTYPE)\n",
    "torch.set_printoptions(precision=4)\n",
    "\n",
    "%load_ext autoreload\n",
    "%autoreload 2\n",
    "\n",
    "%matplotlib widget"
   ]
  },
  {
   "cell_type": "markdown",
   "metadata": {},
   "source": [
    "# Figure 12: 7-fold Torus Unknot"
   ]
  },
  {
   "cell_type": "markdown",
   "metadata": {},
   "source": [
    "## #1: Original 7-fold Unknot from [Maekawa and Scholz 2024] – Ratio 0.205"
   ]
  },
  {
   "cell_type": "code",
   "execution_count": null,
   "metadata": {},
   "outputs": [],
   "source": [
    "# Define a path to output specific to the current test case\n",
    "paths = setup_paths(get_name(), test_name=\"fig12_7fold_torus_ms_ratio205\")"
   ]
  },
  {
   "cell_type": "code",
   "execution_count": null,
   "metadata": {},
   "outputs": [],
   "source": [
    "# Generatrix: regular N-gon\n",
    "N = 4\n",
    "tube_radius = 0.3\n",
    "generatrix_2d = regular_polygon(N, tube_radius)\n",
    "\n",
    "fig, ax = plot_generatrix(generatrix_2d)"
   ]
  },
  {
   "cell_type": "code",
   "execution_count": null,
   "metadata": {},
   "outputs": [],
   "source": [
    "# Directrix: torus knot parametrization from [Maekawa & Scholz 2024]\n",
    "ratio = 0.205\n",
    "\n",
    "closed_curve = True\n",
    "K_per_lobe = 11\n",
    "n_fold_symm = 7\n",
    "K = K_per_lobe * n_fold_symm + 1\n",
    "K_to_M_factor = 6\n",
    "M = K_to_M_factor * (K - 1) + 1\n",
    "\n",
    "R = 3\n",
    "r = ratio * R\n",
    "ts_disc_curve = torch.linspace(0.0, 2.0 * PI, K)\n",
    "cps_ref = torus_knot_parameterization_maekawa_scholz(ts_disc_curve, p=1, q=n_fold_symm, r=r, R=R)"
   ]
  },
  {
   "cell_type": "code",
   "execution_count": null,
   "metadata": {},
   "outputs": [],
   "source": [
    "# Define symmetry transform\n",
    "z_axis = torch.tensor([0.0, 0.0, 1.0], dtype=TORCH_DTYPE)\n",
    "symm_7_fold = [\n",
    "    lambda pts: rotate_about_axis(pts, z_axis, torch.tensor(2*PI/7)),\n",
    "    lambda pts: rotate_about_axis(pts, z_axis, torch.tensor(4*PI/7)),\n",
    "    lambda pts: rotate_about_axis(pts, z_axis, torch.tensor(6*PI/7)),\n",
    "    lambda pts: rotate_about_axis(pts, z_axis, torch.tensor(8*PI/7)),\n",
    "    lambda pts: rotate_about_axis(pts, z_axis, torch.tensor(10*PI/7)),\n",
    "    lambda pts: rotate_about_axis(pts, z_axis, torch.tensor(12*PI/7)),\n",
    "]\n",
    "symmetry_transforms = symm_7_fold\n",
    "\n",
    "# Select only one part of the curve\n",
    "K = (K - 1) // n_fold_symm + 1 #+ 15\n",
    "M = (M - 1) // n_fold_symm + 1 #+ 30\n",
    "cps_ref = cps_ref[:K]"
   ]
  },
  {
   "cell_type": "code",
   "execution_count": null,
   "metadata": {},
   "outputs": [],
   "source": [
    "# C-tube\n",
    "directrix = Directrix(cps_ref, M, symmetry_transforms=symmetry_transforms)\n",
    "\n",
    "X0 = directrix.X[0]\n",
    "T0 = directrix.get_tangents()[0]\n",
    "generatrix = Generatrix(generatrix_2d, X0, T0)\n",
    "\n",
    "plane_normals = get_bisecting_plane_normals_with_symmetry(directrix)\n",
    "\n",
    "tube = CTube(\n",
    "    directrix, generatrix, plane_normals,\n",
    "    symmetry_transforms=symmetry_transforms\n",
    ")"
   ]
  },
  {
   "cell_type": "code",
   "execution_count": null,
   "metadata": {},
   "outputs": [],
   "source": [
    "# Pickle C-Tube\n",
    "pkl_file = os.path.join(paths[\"output_opt\"], \"tube.pkl\")\n",
    "dill.dump(tube, open(pkl_file, \"wb\"))"
   ]
  },
  {
   "cell_type": "code",
   "execution_count": null,
   "metadata": {},
   "outputs": [],
   "source": [
    "fig, ax = tube.plot_3d()"
   ]
  },
  {
   "cell_type": "code",
   "execution_count": null,
   "metadata": {},
   "outputs": [],
   "source": [
    "fig, ax = tube.plot_unrolled_strips()"
   ]
  },
  {
   "cell_type": "code",
   "execution_count": null,
   "metadata": {},
   "outputs": [],
   "source": [
    "# Save initial state\n",
    "opt_prob = CTubeOptimizationProblem(tube, opt_weights={}, objective_args={})\n",
    "opt_prob.save_meshes(paths=paths)\n",
    "opt_prob.save_optimization_results(paths=paths)  # initial state"
   ]
  },
  {
   "cell_type": "markdown",
   "metadata": {},
   "source": [
    "## #2: Original 7-fold Unknot from [Maekawa and Scholz 2024] – Ratio 0.200"
   ]
  },
  {
   "cell_type": "code",
   "execution_count": null,
   "metadata": {},
   "outputs": [],
   "source": [
    "# Define a path to output specific to the current test case\n",
    "paths = setup_paths(get_name(), test_name=\"fig12_7fold_torus_ms_ratio200\")"
   ]
  },
  {
   "cell_type": "code",
   "execution_count": null,
   "metadata": {},
   "outputs": [],
   "source": [
    "# Directrix: torus knot parametrization from [Maekawa & Scholz 2024]\n",
    "ratio = 0.200\n",
    "\n",
    "closed_curve = True\n",
    "K_per_lobe = 11\n",
    "n_fold_symm = 7\n",
    "K = K_per_lobe * n_fold_symm + 1\n",
    "K_to_M_factor = 6\n",
    "M = K_to_M_factor * (K - 1) + 1\n",
    "\n",
    "R = 3\n",
    "r = ratio * R\n",
    "ts_disc_curve = torch.linspace(0.0, 2.0 * PI, K)\n",
    "cps_ref = torus_knot_parameterization_maekawa_scholz(ts_disc_curve, p=1, q=n_fold_symm, r=r, R=R)"
   ]
  },
  {
   "cell_type": "code",
   "execution_count": null,
   "metadata": {},
   "outputs": [],
   "source": [
    "# Define symmetry transform\n",
    "z_axis = torch.tensor([0.0, 0.0, 1.0], dtype=TORCH_DTYPE)\n",
    "symm_7_fold = [\n",
    "    lambda pts: rotate_about_axis(pts, z_axis, torch.tensor(2*PI/7)),\n",
    "    lambda pts: rotate_about_axis(pts, z_axis, torch.tensor(4*PI/7)),\n",
    "    lambda pts: rotate_about_axis(pts, z_axis, torch.tensor(6*PI/7)),\n",
    "    lambda pts: rotate_about_axis(pts, z_axis, torch.tensor(8*PI/7)),\n",
    "    lambda pts: rotate_about_axis(pts, z_axis, torch.tensor(10*PI/7)),\n",
    "    lambda pts: rotate_about_axis(pts, z_axis, torch.tensor(12*PI/7)),\n",
    "]\n",
    "symmetry_transforms = symm_7_fold\n",
    "\n",
    "# Select only one part of the curve\n",
    "K = (K - 1) // n_fold_symm + 1\n",
    "M = (M - 1) // n_fold_symm + 1\n",
    "cps_ref = cps_ref[:K]"
   ]
  },
  {
   "cell_type": "code",
   "execution_count": null,
   "metadata": {},
   "outputs": [],
   "source": [
    "# C-tube\n",
    "directrix = Directrix(cps_ref, M, symmetry_transforms=symmetry_transforms)\n",
    "\n",
    "X0 = directrix.X[0]\n",
    "T0 = directrix.get_tangents()[0]\n",
    "generatrix = Generatrix(generatrix_2d, X0, T0)\n",
    "\n",
    "plane_normals = get_bisecting_plane_normals_with_symmetry(directrix)\n",
    "\n",
    "tube = CTube(\n",
    "    directrix, generatrix, plane_normals,\n",
    "    symmetry_transforms=symmetry_transforms\n",
    ")"
   ]
  },
  {
   "cell_type": "code",
   "execution_count": null,
   "metadata": {},
   "outputs": [],
   "source": [
    "# Pickle C-Tube\n",
    "pkl_file = os.path.join(paths[\"output_opt\"], \"tube.pkl\")\n",
    "dill.dump(tube, open(pkl_file, \"wb\"))"
   ]
  },
  {
   "cell_type": "code",
   "execution_count": null,
   "metadata": {},
   "outputs": [],
   "source": [
    "fig, ax = tube.plot_3d()"
   ]
  },
  {
   "cell_type": "code",
   "execution_count": null,
   "metadata": {},
   "outputs": [],
   "source": [
    "fig, ax = tube.plot_unrolled_strips()"
   ]
  },
  {
   "cell_type": "code",
   "execution_count": null,
   "metadata": {},
   "outputs": [],
   "source": [
    "# Save initial state\n",
    "opt_prob = CTubeOptimizationProblem(tube, opt_weights={}, objective_args={})\n",
    "opt_prob.save_meshes(paths=paths)\n",
    "opt_prob.save_optimization_results(paths=paths)  # initial state"
   ]
  },
  {
   "cell_type": "markdown",
   "metadata": {},
   "source": [
    "## #3: C-Tube 7-fold Unknot – Ratio 0.205"
   ]
  },
  {
   "cell_type": "code",
   "execution_count": null,
   "metadata": {},
   "outputs": [],
   "source": [
    "ratio = 0.205\n",
    "paths_ms = setup_paths(get_name(), test_name=\"fig12_7fold_torus_ms_ratio{}\".format(int(ratio * 1000)))\n",
    "\n",
    "pkl_file = os.path.join(paths_ms[\"output_opt\"], \"tube.pkl\")\n",
    "tube = dill.load(open(pkl_file, \"rb\"))"
   ]
  },
  {
   "cell_type": "code",
   "execution_count": null,
   "metadata": {},
   "outputs": [],
   "source": [
    "# Define a path to output specific to the current test case\n",
    "paths = setup_paths(get_name(), test_name=\"fig12_7fold_torus_ours_ratio{}\".format(int(ratio * 1000)))"
   ]
  },
  {
   "cell_type": "code",
   "execution_count": null,
   "metadata": {},
   "outputs": [],
   "source": [
    "fig, ax = tube.plot_3d()"
   ]
  },
  {
   "cell_type": "code",
   "execution_count": null,
   "metadata": {},
   "outputs": [],
   "source": [
    "fig, ax = tube.plot_unrolled_strips()"
   ]
  },
  {
   "cell_type": "markdown",
   "metadata": {},
   "source": [
    "### Optimization"
   ]
  },
  {
   "cell_type": "code",
   "execution_count": null,
   "metadata": {},
   "outputs": [],
   "source": [
    "# Target cross-sections\n",
    "target_cross_sections = fix_end_cross_sections(tube, get_pairings_all(N))\n",
    "\n",
    "# As second target cross-section, rotate the first cross-section by the first symmetry transform\n",
    "first_cs = target_cross_sections.target_points[0, ...]\n",
    "target_cross_sections.target_points[1, ...] = symmetry_transforms[0](first_cs)"
   ]
  },
  {
   "cell_type": "code",
   "execution_count": null,
   "metadata": {},
   "outputs": [],
   "source": [
    "# Set up optimization problem\n",
    "\n",
    "opt_weights = {\n",
    "    'match_target_cross_sections': 1e4 / generatrix.aabb_diagonal_length() ** 2,\n",
    "    'join_ends': 1.0 / generatrix.aabb_diagonal_length() ** 2,\n",
    "}\n",
    "\n",
    "objective_args = {\n",
    "    'target_cross_sections': target_cross_sections,\n",
    "    'join_ends_pairings': get_pairings_all(N),\n",
    "}\n",
    "\n",
    "opt_prob = CTubeOptimizationProblem(\n",
    "    tube, \n",
    "    opt_weights, \n",
    "    objective_args,\n",
    ")\n",
    "\n",
    "opt_prob.activate_cps(False)\n",
    "opt_prob.activate_theta(False)\n",
    "opt_prob.activate_apex_loc_func(False)\n",
    "opt_prob.activate_plane_normals(True)"
   ]
  },
  {
   "cell_type": "code",
   "execution_count": null,
   "metadata": {},
   "outputs": [],
   "source": [
    "opt_prob.compute_objective(print_to_console=True)"
   ]
  },
  {
   "cell_type": "code",
   "execution_count": null,
   "metadata": {},
   "outputs": [],
   "source": [
    "from scipy.optimize import minimize\n",
    "from Ctubes.opt import obj_and_grad\n",
    "\n",
    "torch.autograd.set_detect_anomaly(False)\n",
    "\n",
    "# Set up optimization configuration\n",
    "opt_prob.configure_optimization_output(paths)\n",
    "\n",
    "# Get initial parameters\n",
    "params0 = opt_prob.get_params_numpy()\n",
    "\n",
    "# Define objective and gradient function for SciPy\n",
    "obj_and_grad_scipy = lambda params: obj_and_grad(params, opt_prob)\n",
    "\n",
    "# Fix variables via double-sided bounds\n",
    "fixed_indices = []  # no fixed DOF by default\n",
    "\n",
    "bounds = [(None, None)] * len(params0)\n",
    "for idx in fixed_indices:\n",
    "    bounds[idx] = (params0[idx], params0[idx])\n",
    "print(f\"Fixing {len(fixed_indices)} parameters.\")\n",
    "\n",
    "# Add initial state to history\n",
    "opt_prob.add_objective_to_history()"
   ]
  },
  {
   "cell_type": "code",
   "execution_count": null,
   "metadata": {},
   "outputs": [],
   "source": [
    "# Run optimization\n",
    "start_time = time.time()\n",
    "result = minimize(\n",
    "    obj_and_grad_scipy, \n",
    "    params0, \n",
    "    jac=True, \n",
    "    method='L-BFGS-B',\n",
    "    options={'ftol': 1.0e-10, 'gtol': 1.0e-5, 'disp': True, 'maxiter': 2000},\n",
    "    bounds=bounds,\n",
    "    callback=opt_prob.optimization_callback,\n",
    ")\n",
    "result.execution_time = time.time() - start_time\n",
    "\n",
    "# Finalize optimization (save results, render videos, cleanup)\n",
    "opt_prob.finalize_optimization(result)"
   ]
  },
  {
   "cell_type": "code",
   "execution_count": null,
   "metadata": {},
   "outputs": [],
   "source": [
    "opt_prob.compute_objective(print_to_console=True)"
   ]
  },
  {
   "cell_type": "code",
   "execution_count": null,
   "metadata": {},
   "outputs": [],
   "source": [
    "fig, ax = opt_prob.plot_objective_history()"
   ]
  },
  {
   "cell_type": "code",
   "execution_count": null,
   "metadata": {},
   "outputs": [],
   "source": [
    "fig, ax = opt_prob.plot_3d()"
   ]
  },
  {
   "cell_type": "code",
   "execution_count": null,
   "metadata": {},
   "outputs": [],
   "source": [
    "fig, ax = opt_prob.plot_unrolled_strips()"
   ]
  },
  {
   "cell_type": "markdown",
   "metadata": {},
   "source": [
    "## #4: C-Tube 7-fold Unknot – Ratio 0.200"
   ]
  },
  {
   "cell_type": "code",
   "execution_count": null,
   "metadata": {},
   "outputs": [],
   "source": [
    "ratio = 0.200\n",
    "paths_ms = setup_paths(get_name(), test_name=\"fig12_7fold_torus_ms_ratio{}\".format(int(ratio * 1000)))\n",
    "\n",
    "pkl_file = os.path.join(paths_ms[\"output_opt\"], \"tube.pkl\")\n",
    "tube = dill.load(open(pkl_file, \"rb\"))"
   ]
  },
  {
   "cell_type": "code",
   "execution_count": null,
   "metadata": {},
   "outputs": [],
   "source": [
    "# Define a path to output specific to the current test case\n",
    "paths = setup_paths(get_name(), test_name=\"fig12_7fold_torus_ours_ratio{}\".format(int(ratio * 1000)))"
   ]
  },
  {
   "cell_type": "code",
   "execution_count": null,
   "metadata": {},
   "outputs": [],
   "source": [
    "fig, ax = tube.plot_3d()"
   ]
  },
  {
   "cell_type": "code",
   "execution_count": null,
   "metadata": {},
   "outputs": [],
   "source": [
    "fig, ax = tube.plot_unrolled_strips()"
   ]
  },
  {
   "cell_type": "markdown",
   "metadata": {},
   "source": [
    "### Optimization"
   ]
  },
  {
   "cell_type": "code",
   "execution_count": null,
   "metadata": {},
   "outputs": [],
   "source": [
    "# Target cross-sections\n",
    "target_cross_sections = fix_end_cross_sections(tube, get_pairings_all(N))\n",
    "\n",
    "# As second target cross-section, rotate the first cross-section by the first symmetry transform\n",
    "first_cs = target_cross_sections.target_points[0, ...]\n",
    "target_cross_sections.target_points[1, ...] = symmetry_transforms[0](first_cs)"
   ]
  },
  {
   "cell_type": "code",
   "execution_count": null,
   "metadata": {},
   "outputs": [],
   "source": [
    "# Set up optimization problem\n",
    "\n",
    "opt_weights = {\n",
    "    'match_target_cross_sections': 1e4 / generatrix.aabb_diagonal_length() ** 2,\n",
    "    'join_ends': 1.0 / generatrix.aabb_diagonal_length() ** 2,\n",
    "}\n",
    "\n",
    "objective_args = {\n",
    "    'target_cross_sections': target_cross_sections,\n",
    "    'join_ends_pairings': get_pairings_all(N),\n",
    "}\n",
    "\n",
    "opt_prob = CTubeOptimizationProblem(\n",
    "    tube, \n",
    "    opt_weights, \n",
    "    objective_args,\n",
    ")\n",
    "\n",
    "opt_prob.activate_cps(False)\n",
    "opt_prob.activate_theta(False)\n",
    "opt_prob.activate_apex_loc_func(False)\n",
    "opt_prob.activate_plane_normals(True)"
   ]
  },
  {
   "cell_type": "code",
   "execution_count": null,
   "metadata": {},
   "outputs": [],
   "source": [
    "opt_prob.compute_objective(print_to_console=True)"
   ]
  },
  {
   "cell_type": "code",
   "execution_count": null,
   "metadata": {},
   "outputs": [],
   "source": [
    "from scipy.optimize import minimize\n",
    "from Ctubes.opt import obj_and_grad\n",
    "\n",
    "torch.autograd.set_detect_anomaly(False)\n",
    "\n",
    "# Set up optimization configuration\n",
    "opt_prob.configure_optimization_output(paths)\n",
    "\n",
    "# Get initial parameters\n",
    "params0 = opt_prob.get_params_numpy()\n",
    "\n",
    "# Define objective and gradient function for SciPy\n",
    "obj_and_grad_scipy = lambda params: obj_and_grad(params, opt_prob)\n",
    "\n",
    "# Fix variables via double-sided bounds\n",
    "fixed_indices = []  # no fixed DOF by default\n",
    "\n",
    "bounds = [(None, None)] * len(params0)\n",
    "for idx in fixed_indices:\n",
    "    bounds[idx] = (params0[idx], params0[idx])\n",
    "print(f\"Fixing {len(fixed_indices)} parameters.\")\n",
    "\n",
    "# Add initial state to history\n",
    "opt_prob.add_objective_to_history()"
   ]
  },
  {
   "cell_type": "code",
   "execution_count": null,
   "metadata": {},
   "outputs": [],
   "source": [
    "# Run optimization\n",
    "start_time = time.time()\n",
    "result = minimize(\n",
    "    obj_and_grad_scipy, \n",
    "    params0, \n",
    "    jac=True, \n",
    "    method='L-BFGS-B',\n",
    "    options={'ftol': 1.0e-10, 'gtol': 1.0e-5, 'disp': True, 'maxiter': 2000},\n",
    "    bounds=bounds,\n",
    "    callback=opt_prob.optimization_callback,\n",
    ")\n",
    "result.execution_time = time.time() - start_time\n",
    "\n",
    "# Finalize optimization (save results, render videos, cleanup)\n",
    "opt_prob.finalize_optimization(result)"
   ]
  },
  {
   "cell_type": "code",
   "execution_count": null,
   "metadata": {},
   "outputs": [],
   "source": [
    "opt_prob.compute_objective(print_to_console=True)"
   ]
  },
  {
   "cell_type": "code",
   "execution_count": null,
   "metadata": {},
   "outputs": [],
   "source": [
    "fig, ax = opt_prob.plot_objective_history()"
   ]
  },
  {
   "cell_type": "code",
   "execution_count": null,
   "metadata": {},
   "outputs": [],
   "source": [
    "fig, ax = opt_prob.plot_3d()"
   ]
  },
  {
   "cell_type": "code",
   "execution_count": null,
   "metadata": {},
   "outputs": [],
   "source": [
    "fig, ax = opt_prob.plot_unrolled_strips()"
   ]
  },
  {
   "cell_type": "code",
   "execution_count": null,
   "metadata": {},
   "outputs": [],
   "source": []
  }
 ],
 "metadata": {
  "kernelspec": {
   "display_name": "dev_tube_env",
   "language": "python",
   "name": "python3"
  },
  "language_info": {
   "codemirror_mode": {
    "name": "ipython",
    "version": 3
   },
   "file_extension": ".py",
   "mimetype": "text/x-python",
   "name": "python",
   "nbconvert_exporter": "python",
   "pygments_lexer": "ipython3",
   "version": "3.11.10"
  }
 },
 "nbformat": 4,
 "nbformat_minor": 2
}

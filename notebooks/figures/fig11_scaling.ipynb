{
 "cells": [
  {
   "cell_type": "code",
   "execution_count": null,
   "metadata": {},
   "outputs": [],
   "source": [
    "import numpy as np, torch, json, time, os\n",
    "from Ctubes.geometry_utils import compute_cross_section_radii\n",
    "from Ctubes.plot_utils import plot_generatrix\n",
    "from Ctubes.tubes import Directrix, Generatrix, CTube\n",
    "from Ctubes.target_cross_sections import fix_end_cross_sections\n",
    "from Ctubes.opt import CTubeOptimizationProblem\n",
    "from Ctubes.misc_utils import load_curve_from_obj\n",
    "from Ctubes.path_utils import get_name, setup_paths\n",
    "\n",
    "paths = setup_paths(get_name())\n",
    "\n",
    "PI = np.pi\n",
    "TORCH_DTYPE = torch.float64\n",
    "torch.set_default_dtype(TORCH_DTYPE)\n",
    "torch.set_printoptions(precision=4)\n",
    "\n",
    "%load_ext autoreload\n",
    "%autoreload 2\n",
    "\n",
    "%matplotlib widget"
   ]
  },
  {
   "cell_type": "markdown",
   "metadata": {},
   "source": [
    "# Figure 11: Cross-Section Scaling with Planar Quads"
   ]
  },
  {
   "cell_type": "code",
   "execution_count": null,
   "metadata": {},
   "outputs": [],
   "source": [
    "# Define a path to output specific to the current test case\n",
    "paths = setup_paths(get_name(), test_name=\"fig11_scaling_optimized\")"
   ]
  },
  {
   "cell_type": "code",
   "execution_count": null,
   "metadata": {},
   "outputs": [],
   "source": [
    "# Directrix: read curve from file\n",
    "cps_ref = load_curve_from_obj(os.path.join(paths[\"data\"], \"fig11_scaling/directrix_Q.obj\"))\n",
    "K = cps_ref.shape[0]\n",
    "M = 2*K"
   ]
  },
  {
   "cell_type": "code",
   "execution_count": null,
   "metadata": {},
   "outputs": [],
   "source": [
    "# Generatrix: custom pentagon\n",
    "N = 5\n",
    "tube_radius = 0.3\n",
    "generatrix_2d = torch.zeros(size=(N, 2))\n",
    "generatrix_2d[:, 0] = tube_radius * torch.cos(torch.linspace(0.0, 2.0 * PI, N+1)[:-1])\n",
    "generatrix_2d[:, 1] = tube_radius * torch.sin(torch.linspace(0.0, 2.0 * PI, N+1)[:-1])\n",
    "\n",
    "# Move vertices on circle\n",
    "displacement = tube_radius\n",
    "generatrix_2d[1] += torch.tensor([displacement, 0])\n",
    "generatrix_2d[2] += torch.tensor([0, displacement])\n",
    "generatrix_2d[3] += torch.tensor([-displacement, -displacement])\n",
    "generatrix_2d[4] += torch.tensor([0, -displacement])\n",
    "for i in range(N):\n",
    "    generatrix_2d[i] = tube_radius * generatrix_2d[i] / torch.linalg.norm(generatrix_2d[i]) # project back on circle\n",
    "\n",
    "fig, ax = plot_generatrix(generatrix_2d)"
   ]
  },
  {
   "cell_type": "code",
   "execution_count": null,
   "metadata": {},
   "outputs": [],
   "source": [
    "# C-tube\n",
    "directrix = Directrix(cps_ref, M)\n",
    "\n",
    "X0 = directrix.X[0]\n",
    "T0 = directrix.get_tangents()[0]\n",
    "theta = torch.tensor(PI/2)\n",
    "generatrix = Generatrix(generatrix_2d, X0, T0, theta)\n",
    "\n",
    "tube = CTube(directrix, generatrix)"
   ]
  },
  {
   "cell_type": "code",
   "execution_count": null,
   "metadata": {},
   "outputs": [],
   "source": [
    "fig, ax = tube.plot_3d()"
   ]
  },
  {
   "cell_type": "code",
   "execution_count": null,
   "metadata": {},
   "outputs": [],
   "source": [
    "fig, ax = tube.plot_unrolled_strips()"
   ]
  },
  {
   "cell_type": "markdown",
   "metadata": {},
   "source": [
    "### Manual Cross-Section Scaling $\\implies$ Non-PQ Mesh"
   ]
  },
  {
   "cell_type": "code",
   "execution_count": null,
   "metadata": {},
   "outputs": [],
   "source": [
    "# Measure initial planarity of the quads\n",
    "import meshplot as mp\n",
    "from Ctubes.tube_generation import compute_ctube_topology, compute_ctube_topology_tri\n",
    "from Ctubes.geometry_utils import compute_quad_nonplanarity\n",
    "\n",
    "ctube_vertices = tube.compute_vertices()\n",
    "ctube_vertices_plot = ctube_vertices.clone()\n",
    "\n",
    "V = ctube_vertices_plot.reshape(-1, 3)\n",
    "F, F_caps = compute_ctube_topology_tri(M, N)\n",
    "\n",
    "scalar_field = compute_quad_nonplanarity(ctube_vertices_plot).numpy()\n",
    "scalar_field = np.repeat(scalar_field, 2, axis=0).flatten()\n",
    "print(\"Min nonplanarity:\", scalar_field.min())\n",
    "print(\"Max nonplanarity:\", scalar_field.max())\n",
    "\n",
    "# Modify one of the values to have full blue mesh if range is small\n",
    "scalar_field[0] = 1.0\n",
    "\n",
    "try:\n",
    "    mesh_plt = mp.plot(V.numpy(), F.numpy(), scalar_field, shading={\"wireframe\": True, \"flat\": False})\n",
    "except NameError:\n",
    "    pass  # Ignore meshplot display errors in script mode"
   ]
  },
  {
   "cell_type": "code",
   "execution_count": null,
   "metadata": {},
   "outputs": [],
   "source": [
    "# Apply sinusoidal scaling along the cross-sections of the tube\n",
    "ctube_vertices = tube.compute_vertices()\n",
    "ctube_vertices_manual = ctube_vertices.clone()\n",
    "directrix = tube.get_polyline()\n",
    "scaling_factors = 1.0 - 0.4 * torch.sin(2*PI*torch.linspace(0, 1, M))\n",
    "for i in range(M):\n",
    "    centroid = torch.mean(ctube_vertices[i], dim=0)\n",
    "    ctube_vertices_manual[i] = centroid + scaling_factors[i] * (ctube_vertices[i] - centroid)"
   ]
  },
  {
   "cell_type": "code",
   "execution_count": null,
   "metadata": {},
   "outputs": [],
   "source": [
    "# Measure planarity of the quads after scaling\n",
    "import meshplot as mp\n",
    "from Ctubes.tube_generation import compute_ctube_topology, compute_ctube_topology_tri\n",
    "\n",
    "ctube_vertices_plot = ctube_vertices_manual.clone()\n",
    "\n",
    "V = ctube_vertices_plot.reshape(-1, 3)\n",
    "F, F_caps = compute_ctube_topology_tri(M, N)\n",
    "\n",
    "scalar_field = compute_quad_nonplanarity(ctube_vertices_plot).numpy()\n",
    "scalar_field = np.repeat(scalar_field, 2, axis=0).flatten()\n",
    "print(\"Min nonplanarity:\", scalar_field.min())\n",
    "print(\"Max nonplanarity:\", scalar_field.max())\n",
    "\n",
    "# Generate colormap\n",
    "import matplotlib.pyplot as plt\n",
    "scalar_field_normalized = (scalar_field - scalar_field.min()) / (scalar_field.max() - scalar_field.min())  # Normalize the scalar field to the range [0, 1]\n",
    "cmap = plt.get_cmap('Reds')  # Create a colormap that maps low values to white and high values to red\n",
    "scalar_field_rgb = cmap(scalar_field_normalized)[:, :3]  # # Convert the normalized scalar field to RGB values using the colormap, Ignore the alpha channel\n",
    "\n",
    "try:\n",
    "    mesh_plt = mp.plot(V.numpy(), F.numpy(), scalar_field_rgb, shading={\"wireframe\": True, \"flat\": False})\n",
    "except NameError:\n",
    "    pass  # Ignore meshplot display errors in script mode"
   ]
  },
  {
   "cell_type": "code",
   "execution_count": null,
   "metadata": {},
   "outputs": [],
   "source": [
    "# Save the mesh to file\n",
    "from Ctubes.misc_utils import write_mesh_to_obj\n",
    "paths_manual = setup_paths(get_name(), test_name=\"fig11_scaling_manual\")\n",
    "\n",
    "V = V.numpy()\n",
    "F = F.numpy()\n",
    "save_path = os.path.join(paths_manual[\"output_meshes\"], \"{}_3d_tube.obj\".format(paths_manual[\"name\"]))\n",
    "write_mesh_to_obj(save_path, V, F)"
   ]
  },
  {
   "cell_type": "code",
   "execution_count": null,
   "metadata": {},
   "outputs": [],
   "source": [
    "# Save to json\n",
    "save_path = os.path.join(paths_manual[\"output_meshes\"], \"{}_3d_tube.json\".format(paths_manual[\"name\"]))\n",
    "\n",
    "with open(save_path, 'w') as f:\n",
    "    json.dump({\n",
    "        'ctube_vertices': ctube_vertices_manual.numpy().tolist(),\n",
    "        'mesh': {\n",
    "            'vertices': V.tolist(),\n",
    "            'faces': F.tolist(),\n",
    "        },\n",
    "        'scalar_field': scalar_field.tolist(),\n",
    "        'scalar_field_rgb': scalar_field_rgb.tolist(),\n",
    "    }, f, indent=4)"
   ]
  },
  {
   "cell_type": "markdown",
   "metadata": {},
   "source": [
    "### Optimization (PQ Mesh)"
   ]
  },
  {
   "cell_type": "code",
   "execution_count": null,
   "metadata": {},
   "outputs": [],
   "source": [
    "# Set target cross-section radius from the manually scaled tube\n",
    "target_cross_section_radii = compute_cross_section_radii(tube.get_polyline(), ctube_vertices_manual)"
   ]
  },
  {
   "cell_type": "code",
   "execution_count": null,
   "metadata": {},
   "outputs": [],
   "source": [
    "# Set up optimization problem\n",
    "\n",
    "opt_weights = {\n",
    "    'match_target_cross_sections': 1e2 / generatrix.aabb_diagonal_length() ** 2,\n",
    "    'match_target_cross_section_radius': 1e1 / generatrix.aabb_diagonal_length() ** 2,\n",
    "    'smooth_plane_normal_diffs': 0,\n",
    "    'smooth_apex_loc_func': 0,\n",
    "}\n",
    "\n",
    "objective_args = {\n",
    "    'target_cross_sections': fix_end_cross_sections(tube),\n",
    "    'target_cross_section_radii': target_cross_section_radii,\n",
    "}\n",
    "\n",
    "opt_prob = CTubeOptimizationProblem(\n",
    "    tube, \n",
    "    opt_weights, \n",
    "    objective_args,\n",
    ")\n",
    "\n",
    "opt_prob.activate_cps(False)\n",
    "opt_prob.activate_theta(False)\n",
    "opt_prob.activate_apex_loc_func(True)\n",
    "opt_prob.activate_plane_normals(True)"
   ]
  },
  {
   "cell_type": "code",
   "execution_count": null,
   "metadata": {},
   "outputs": [],
   "source": [
    "opt_prob.compute_objective(print_to_console=True)"
   ]
  },
  {
   "cell_type": "code",
   "execution_count": null,
   "metadata": {},
   "outputs": [],
   "source": [
    "# Save initial state\n",
    "paths_init = setup_paths(get_name(), test_name=\"fig11_scaling_init\")\n",
    "\n",
    "opt_prob.save_meshes(paths=paths_init)\n",
    "opt_prob.save_optimization_results(paths=paths_init)"
   ]
  },
  {
   "cell_type": "code",
   "execution_count": null,
   "metadata": {},
   "outputs": [],
   "source": [
    "from scipy.optimize import minimize\n",
    "from Ctubes.opt import obj_and_grad\n",
    "\n",
    "torch.autograd.set_detect_anomaly(False)\n",
    "\n",
    "# Set up optimization configuration\n",
    "opt_prob.configure_optimization_output(paths)\n",
    "\n",
    "# Get initial parameters\n",
    "params0 = opt_prob.get_params_numpy()\n",
    "\n",
    "# Define objective and gradient function for SciPy\n",
    "obj_and_grad_scipy = lambda params: obj_and_grad(params, opt_prob)\n",
    "\n",
    "# Fix variables via double-sided bounds\n",
    "fixed_indices = []\n",
    "dofs = opt_prob.get_dof_indices_plane_normals()\n",
    "fixed_indices += dofs[:3] + dofs[-3:]  # fix first and last plane normals\n",
    "fixed_indices = list(set(fixed_indices))  # remove duplicates\n",
    "fixed_indices = sorted(fixed_indices)\n",
    "\n",
    "bounds = [(None, None)] * len(params0)\n",
    "for idx in fixed_indices:\n",
    "    bounds[idx] = (params0[idx], params0[idx])\n",
    "print(f\"Fixing {len(fixed_indices)} parameters.\")\n",
    "\n",
    "# Add initial state to history\n",
    "opt_prob.add_objective_to_history()"
   ]
  },
  {
   "cell_type": "code",
   "execution_count": null,
   "metadata": {},
   "outputs": [],
   "source": [
    "# Run optimization\n",
    "start_time = time.time()\n",
    "result = minimize(\n",
    "    obj_and_grad_scipy, \n",
    "    params0, \n",
    "    jac=True, \n",
    "    method='L-BFGS-B',\n",
    "    options={'ftol': 1.0e-10, 'gtol': 1.0e-5, 'disp': True, 'maxiter': 2000},\n",
    "    bounds=bounds,\n",
    "    callback=opt_prob.optimization_callback,\n",
    ")\n",
    "result.execution_time = time.time() - start_time\n",
    "\n",
    "# Finalize optimization (save results, render videos, cleanup)\n",
    "opt_prob.finalize_optimization(result)"
   ]
  },
  {
   "cell_type": "code",
   "execution_count": null,
   "metadata": {},
   "outputs": [],
   "source": [
    "opt_prob.compute_objective(print_to_console=True)"
   ]
  },
  {
   "cell_type": "code",
   "execution_count": null,
   "metadata": {},
   "outputs": [],
   "source": [
    "fig, ax = opt_prob.plot_objective_history()"
   ]
  },
  {
   "cell_type": "code",
   "execution_count": null,
   "metadata": {},
   "outputs": [],
   "source": [
    "fig, ax = opt_prob.plot_3d()"
   ]
  },
  {
   "cell_type": "code",
   "execution_count": null,
   "metadata": {},
   "outputs": [],
   "source": [
    "fig, ax = opt_prob.plot_unrolled_strips()"
   ]
  },
  {
   "cell_type": "code",
   "execution_count": null,
   "metadata": {},
   "outputs": [],
   "source": [
    "fig, ax = opt_prob.plot_cross_section_radii()"
   ]
  },
  {
   "cell_type": "code",
   "execution_count": null,
   "metadata": {},
   "outputs": [],
   "source": [
    "fig, ax = opt_prob.plot_apex_loc_func()"
   ]
  },
  {
   "cell_type": "code",
   "execution_count": null,
   "metadata": {},
   "outputs": [],
   "source": []
  }
 ],
 "metadata": {
  "kernelspec": {
   "display_name": "dev_tube_env",
   "language": "python",
   "name": "python3"
  },
  "language_info": {
   "codemirror_mode": {
    "name": "ipython",
    "version": 3
   },
   "file_extension": ".py",
   "mimetype": "text/x-python",
   "name": "python",
   "nbconvert_exporter": "python",
   "pygments_lexer": "ipython3",
   "version": "3.11.10"
  }
 },
 "nbformat": 4,
 "nbformat_minor": 2
}

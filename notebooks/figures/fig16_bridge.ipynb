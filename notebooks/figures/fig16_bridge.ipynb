{
 "cells": [
  {
   "cell_type": "code",
   "execution_count": null,
   "metadata": {},
   "outputs": [],
   "source": [
    "import matplotlib.pyplot as plt\n",
    "import numpy as np, torch, dill, time, os\n",
    "from Ctubes.geometry_utils import regular_polygon\n",
    "from Ctubes.plot_utils import plot_generatrix\n",
    "from Ctubes.tubes import Directrix, Generatrix, CTube\n",
    "from Ctubes.opt import CTubeOptimizationProblem\n",
    "from Ctubes.misc_utils import get_pairings_all, load_curve_from_obj\n",
    "from Ctubes.path_utils import get_name, setup_paths\n",
    "\n",
    "paths = setup_paths(get_name())\n",
    "\n",
    "PI = np.pi\n",
    "TORCH_DTYPE = torch.float64\n",
    "torch.set_default_dtype(TORCH_DTYPE)\n",
    "torch.set_printoptions(precision=4)\n",
    "\n",
    "%load_ext autoreload\n",
    "%autoreload 2\n",
    "\n",
    "%matplotlib widget"
   ]
  },
  {
   "cell_type": "markdown",
   "metadata": {},
   "source": [
    "# Figure 16: Bridge – Alignment Constraints"
   ]
  },
  {
   "cell_type": "markdown",
   "metadata": {},
   "source": [
    "## #1: Directrix Self-Distance"
   ]
  },
  {
   "cell_type": "code",
   "execution_count": null,
   "metadata": {},
   "outputs": [],
   "source": [
    "# Define a path to output specific to the current test case\n",
    "paths = setup_paths(get_name(), test_name=\"fig16_bridge_directrix_dist\")"
   ]
  },
  {
   "cell_type": "code",
   "execution_count": null,
   "metadata": {},
   "outputs": [],
   "source": [
    "# Directrix: read curve from file\n",
    "cps_ref = load_curve_from_obj(os.path.join(paths[\"data\"], \"fig16_bridge/directrix_Q.obj\"))\n",
    "K = cps_ref.shape[0]\n",
    "M = (K - 1) * 8 + 1"
   ]
  },
  {
   "cell_type": "code",
   "execution_count": null,
   "metadata": {},
   "outputs": [],
   "source": [
    "# Generatrix: regular N-gon\n",
    "N = 3\n",
    "tube_radius = 1.5\n",
    "generatrix_2d = regular_polygon(N, tube_radius)\n",
    "\n",
    "fig, ax = plot_generatrix(generatrix_2d)"
   ]
  },
  {
   "cell_type": "code",
   "execution_count": null,
   "metadata": {},
   "outputs": [],
   "source": [
    "# C-tube\n",
    "directrix = Directrix(cps_ref, M)\n",
    "\n",
    "X0 = directrix.X[0]\n",
    "T0 = directrix.get_tangents()[0]\n",
    "theta = torch.tensor(PI/2)\n",
    "generatrix = Generatrix(generatrix_2d, X0, T0, theta)\n",
    "\n",
    "tube = CTube(directrix, generatrix, plane_normal_kind='bisecting')"
   ]
  },
  {
   "cell_type": "code",
   "execution_count": null,
   "metadata": {},
   "outputs": [],
   "source": [
    "fig, ax = tube.plot_3d()"
   ]
  },
  {
   "cell_type": "code",
   "execution_count": null,
   "metadata": {},
   "outputs": [],
   "source": [
    "fig, ax = tube.plot_unrolled_strips()"
   ]
  },
  {
   "cell_type": "markdown",
   "metadata": {},
   "source": [
    "### Optimization"
   ]
  },
  {
   "cell_type": "code",
   "execution_count": null,
   "metadata": {},
   "outputs": [],
   "source": [
    "# Set up optimization problem\n",
    "\n",
    "opt_weights = {\n",
    "    'preserve_curve': 1e2 / directrix.aabb_diagonal_length() ** 2,\n",
    "    'join_ends': 1e1 / generatrix.aabb_diagonal_length() ** 2,\n",
    "    'min_directrix_self_distance': 1e2 / tube.aabb_diagonal_length() ** 2,\n",
    "}\n",
    "\n",
    "objective_args = {\n",
    "    'join_ends_pairings': get_pairings_all(N),\n",
    "    'min_directrix_self_target_distance': 2*tube_radius,\n",
    "}\n",
    "\n",
    "opt_prob = CTubeOptimizationProblem(\n",
    "    tube, \n",
    "    opt_weights, \n",
    "    objective_args,\n",
    ")\n",
    "\n",
    "opt_prob.activate_cps(True)\n",
    "opt_prob.activate_theta(False)\n",
    "opt_prob.activate_apex_loc_func(False)\n",
    "opt_prob.activate_plane_normals(False)"
   ]
  },
  {
   "cell_type": "code",
   "execution_count": null,
   "metadata": {},
   "outputs": [],
   "source": [
    "# Save initial state\n",
    "paths_init = setup_paths(get_name(), test_name=\"fig16_bridge_init\")\n",
    "\n",
    "opt_prob.save_meshes(paths=paths_init)\n",
    "opt_prob.save_optimization_results(paths=paths_init)"
   ]
  },
  {
   "cell_type": "code",
   "execution_count": null,
   "metadata": {},
   "outputs": [],
   "source": [
    "from scipy.optimize import minimize\n",
    "from Ctubes.opt import obj_and_grad\n",
    "\n",
    "torch.autograd.set_detect_anomaly(False)\n",
    "\n",
    "# Set up optimization configuration\n",
    "opt_prob.configure_optimization_output(paths)\n",
    "\n",
    "# Get initial parameters\n",
    "params0 = opt_prob.get_params_numpy()\n",
    "\n",
    "# Define objective and gradient function for SciPy\n",
    "obj_and_grad_scipy = lambda params: obj_and_grad(params, opt_prob)\n",
    "\n",
    "# Fix variables via double-sided bounds\n",
    "fixed_indices = []  # no fixed DOF by default\n",
    "\n",
    "bounds = [(None, None)] * len(params0)\n",
    "for idx in fixed_indices:\n",
    "    bounds[idx] = (params0[idx], params0[idx])\n",
    "print(f\"Fixing {len(fixed_indices)} parameters.\")\n",
    "\n",
    "# Add initial state to history\n",
    "opt_prob.add_objective_to_history()"
   ]
  },
  {
   "cell_type": "code",
   "execution_count": null,
   "metadata": {},
   "outputs": [],
   "source": [
    "# Run optimization\n",
    "start_time = time.time()\n",
    "result = minimize(\n",
    "    obj_and_grad_scipy, \n",
    "    params0, \n",
    "    jac=True, \n",
    "    method='L-BFGS-B',\n",
    "    options={'ftol': 1.0e-10, 'gtol': 1.0e-5, 'disp': True, 'maxiter': 2000},\n",
    "    bounds=bounds,\n",
    "    callback=opt_prob.optimization_callback,\n",
    ")\n",
    "result.execution_time = time.time() - start_time\n",
    "\n",
    "# Finalize optimization (save results, render videos, cleanup)\n",
    "opt_prob.finalize_optimization(result)"
   ]
  },
  {
   "cell_type": "code",
   "execution_count": null,
   "metadata": {},
   "outputs": [],
   "source": [
    "opt_prob.compute_objective(print_to_console=True)"
   ]
  },
  {
   "cell_type": "code",
   "execution_count": null,
   "metadata": {},
   "outputs": [],
   "source": [
    "fig, ax = opt_prob.plot_objective_history()"
   ]
  },
  {
   "cell_type": "code",
   "execution_count": null,
   "metadata": {},
   "outputs": [],
   "source": [
    "fig, ax = opt_prob.plot_3d()"
   ]
  },
  {
   "cell_type": "code",
   "execution_count": null,
   "metadata": {},
   "outputs": [],
   "source": [
    "fig, ax = opt_prob.plot_unrolled_strips()"
   ]
  },
  {
   "cell_type": "markdown",
   "metadata": {},
   "source": [
    "## #2: Quad Tangency + Quad Distance"
   ]
  },
  {
   "cell_type": "code",
   "execution_count": null,
   "metadata": {},
   "outputs": [],
   "source": [
    "# Unpickle the optimization problem\n",
    "paths_load = setup_paths(get_name(), test_name=\"fig16_bridge_directrix_dist\")\n",
    "pkl_file = os.path.join(paths_load[\"output\"], \"opt/opt_prob.pkl\")\n",
    "opt_prob = dill.load(open(pkl_file, \"rb\"))\n",
    "tube_net = opt_prob.tube_network\n",
    "tube = tube_net.tubes[0]"
   ]
  },
  {
   "cell_type": "code",
   "execution_count": null,
   "metadata": {},
   "outputs": [],
   "source": [
    "# Compute edge midpoints\n",
    "edge_midpoints = [pts[:-1] + (pts[1:] - pts[:-1]) / 2 for pts in [tube.directrix.X]]\n",
    "\n",
    "# Manually set point pairs\n",
    "point_pairs = torch.tensor([\n",
    "    [25, 111],\n",
    "    [48, 87],\n",
    "])\n",
    "\n",
    "# Plot\n",
    "fig, ax = tube.plot_3d()\n",
    "\n",
    "# Plot point pairs by connecting them with a line\n",
    "for i, j in point_pairs:\n",
    "    ax.plot(\n",
    "        [edge_midpoints[0][i, 0], edge_midpoints[0][j, 0]], \n",
    "        [edge_midpoints[0][i, 1], edge_midpoints[0][j, 1]], \n",
    "        [edge_midpoints[0][i, 2], edge_midpoints[0][j, 2]], color='r', linewidth=3\n",
    "    )\n",
    "\n",
    "plt.show()"
   ]
  },
  {
   "cell_type": "code",
   "execution_count": null,
   "metadata": {},
   "outputs": [],
   "source": [
    "# Define a path to output specific to the current test case\n",
    "paths = setup_paths(get_name(), test_name=\"fig16_bridge_quad_alignment\")"
   ]
  },
  {
   "cell_type": "code",
   "execution_count": null,
   "metadata": {},
   "outputs": [],
   "source": [
    "# Quad pairings for tangency\n",
    "quad_pairs = point_pairs  # midpoint indices correspond to quad indices\n",
    "n_quad_constraints = len(quad_pairs)\n",
    "\n",
    "quad_pair_tube_indices = torch.tensor([[0, 0] for _ in range(n_quad_constraints)], dtype=torch.int64)\n",
    "\n",
    "quad_pair_tube_indices_any_pairing = quad_pair_tube_indices\n",
    "quad_pair_disc_indices_any_pairing = quad_pairs\n",
    "\n",
    "quad_face_dist_tube_indices = quad_pair_tube_indices\n",
    "quad_face_dist_disc_indices = quad_pairs\n",
    "\n",
    "quad_face_dist_cross_section_indices = torch.tensor([[1, 1] for _ in range(n_quad_constraints)], dtype=torch.int64)\n",
    "\n",
    "target_dist = 0.1 * tube_radius\n",
    "quad_face_dist_target_distances = torch.tensor([target_dist for _ in range(n_quad_constraints)])"
   ]
  },
  {
   "cell_type": "markdown",
   "metadata": {},
   "source": [
    "### Optimization"
   ]
  },
  {
   "cell_type": "code",
   "execution_count": null,
   "metadata": {},
   "outputs": [],
   "source": [
    "# Set up optimization problem\n",
    "\n",
    "opt_weights = {\n",
    "    'preserve_curve': 1e2 / directrix.aabb_diagonal_length() ** 2,\n",
    "    'join_ends': 1e0 / generatrix.aabb_diagonal_length() ** 2,\n",
    "    'quad_tangency_any_pairing': 1e1,\n",
    "    'quad_distance': 1e4 / directrix.aabb_diagonal_length() ** 2,\n",
    "}\n",
    "\n",
    "objective_args = {\n",
    "\n",
    "    # Join ends\n",
    "    'join_ends_pairings': get_pairings_all(N),\n",
    "    \n",
    "    # Quad tangency any pairing\n",
    "    'quad_pair_tube_indices_any_pairing': quad_pair_tube_indices_any_pairing,\n",
    "    'quad_pair_disc_indices_any_pairing': quad_pair_disc_indices_any_pairing,\n",
    "\n",
    "    # Quad distance\n",
    "    'quad_face_dist_tube_indices': quad_face_dist_tube_indices,\n",
    "    'quad_face_dist_disc_indices': quad_face_dist_disc_indices,\n",
    "    'quad_face_dist_cross_section_indices': quad_face_dist_cross_section_indices,\n",
    "    'quad_face_dist_target_distances': quad_face_dist_target_distances,\n",
    "}\n",
    "\n",
    "opt_prob = CTubeOptimizationProblem(\n",
    "    tube, \n",
    "    opt_weights, \n",
    "    objective_args,\n",
    ")\n",
    "\n",
    "opt_prob.activate_cps(True)\n",
    "opt_prob.activate_theta(True)\n",
    "opt_prob.activate_apex_loc_func(False)\n",
    "opt_prob.activate_plane_normals(False)"
   ]
  },
  {
   "cell_type": "code",
   "execution_count": null,
   "metadata": {},
   "outputs": [],
   "source": [
    "opt_prob.compute_objective(print_to_console=True)"
   ]
  },
  {
   "cell_type": "code",
   "execution_count": null,
   "metadata": {},
   "outputs": [],
   "source": [
    "from scipy.optimize import minimize\n",
    "from Ctubes.opt import obj_and_grad\n",
    "\n",
    "torch.autograd.set_detect_anomaly(False)\n",
    "\n",
    "# Set up optimization configuration\n",
    "opt_prob.configure_optimization_output(paths)\n",
    "\n",
    "# Get initial parameters\n",
    "params0 = opt_prob.get_params_numpy()\n",
    "\n",
    "# Define objective and gradient function for SciPy\n",
    "obj_and_grad_scipy = lambda params: obj_and_grad(params, opt_prob)\n",
    "\n",
    "# Fix variables via double-sided bounds\n",
    "fixed_indices = []  # no fixed DOF by default\n",
    "\n",
    "bounds = [(None, None)] * len(params0)\n",
    "for idx in fixed_indices:\n",
    "    bounds[idx] = (params0[idx], params0[idx])\n",
    "print(f\"Fixing {len(fixed_indices)} parameters.\")\n",
    "\n",
    "# Add initial state to history\n",
    "opt_prob.add_objective_to_history()"
   ]
  },
  {
   "cell_type": "code",
   "execution_count": null,
   "metadata": {},
   "outputs": [],
   "source": [
    "# Run optimization\n",
    "start_time = time.time()\n",
    "result = minimize(\n",
    "    obj_and_grad_scipy, \n",
    "    params0, \n",
    "    jac=True, \n",
    "    method='L-BFGS-B',\n",
    "    options={'ftol': 1.0e-10, 'gtol': 1.0e-5, 'disp': True, 'maxiter': 2000},\n",
    "    bounds=bounds,\n",
    "    callback=opt_prob.optimization_callback,\n",
    ")\n",
    "result.execution_time = time.time() - start_time\n",
    "\n",
    "# Finalize optimization (save results, render videos, cleanup)\n",
    "opt_prob.finalize_optimization(result)"
   ]
  },
  {
   "cell_type": "code",
   "execution_count": null,
   "metadata": {},
   "outputs": [],
   "source": [
    "opt_prob.compute_objective(print_to_console=True)"
   ]
  },
  {
   "cell_type": "code",
   "execution_count": null,
   "metadata": {},
   "outputs": [],
   "source": [
    "fig, ax = opt_prob.plot_objective_history()"
   ]
  },
  {
   "cell_type": "code",
   "execution_count": null,
   "metadata": {},
   "outputs": [],
   "source": [
    "fig, ax = opt_prob.plot_3d()"
   ]
  },
  {
   "cell_type": "code",
   "execution_count": null,
   "metadata": {},
   "outputs": [],
   "source": [
    "fig, ax = opt_prob.plot_unrolled_strips()"
   ]
  },
  {
   "cell_type": "code",
   "execution_count": null,
   "metadata": {},
   "outputs": [],
   "source": [
    "# Compute edge midpoints\n",
    "edge_midpoints = [(pts[:-1] + (pts[1:] - pts[:-1]) / 2).detach().cpu().numpy() for pts in opt_prob.tube_network.get_polylines()]\n",
    "\n",
    "# Plot\n",
    "fig, ax = opt_prob.plot_3d()\n",
    "\n",
    "# Plot point pairs by connecting them with a line\n",
    "for i, j in point_pairs:\n",
    "    ax.plot(\n",
    "        [edge_midpoints[0][i, 0], edge_midpoints[0][j, 0]], \n",
    "        [edge_midpoints[0][i, 1], edge_midpoints[0][j, 1]], \n",
    "        [edge_midpoints[0][i, 2], edge_midpoints[0][j, 2]], color='r', linewidth=3\n",
    "    )\n",
    "\n",
    "plt.show()"
   ]
  },
  {
   "cell_type": "code",
   "execution_count": null,
   "metadata": {},
   "outputs": [],
   "source": []
  }
 ],
 "metadata": {
  "kernelspec": {
   "display_name": "dev_tube_env",
   "language": "python",
   "name": "python3"
  },
  "language_info": {
   "codemirror_mode": {
    "name": "ipython",
    "version": 3
   },
   "file_extension": ".py",
   "mimetype": "text/x-python",
   "name": "python",
   "nbconvert_exporter": "python",
   "pygments_lexer": "ipython3",
   "version": "3.11.10"
  }
 },
 "nbformat": 4,
 "nbformat_minor": 2
}

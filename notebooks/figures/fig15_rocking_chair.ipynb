{
 "cells": [
  {
   "cell_type": "code",
   "execution_count": null,
   "metadata": {},
   "outputs": [],
   "source": [
    "import numpy as np, torch, time, os\n",
    "from Ctubes.geometry_utils import (\n",
    "    rotate_about_axis, compute_tangents, reflect_about_plane, \n",
    "    compute_quad_normals, get_bisecting_plane_normals_with_symmetry\n",
    ")\n",
    "from Ctubes.plot_utils import plot_generatrix\n",
    "from Ctubes.tubes import Directrix, Generatrix, CTube\n",
    "from Ctubes.opt import CTubeOptimizationProblem\n",
    "from Ctubes.misc_utils import get_pairings_all, load_curve_from_obj\n",
    "from Ctubes.path_utils import get_name, setup_paths\n",
    "\n",
    "paths = setup_paths(get_name())\n",
    "\n",
    "PI = np.pi\n",
    "TORCH_DTYPE = torch.float64\n",
    "torch.set_default_dtype(TORCH_DTYPE)\n",
    "torch.set_printoptions(precision=4)\n",
    "\n",
    "%load_ext autoreload\n",
    "%autoreload 2\n",
    "\n",
    "%matplotlib widget"
   ]
  },
  {
   "cell_type": "markdown",
   "metadata": {},
   "source": [
    "# Figure 15: Rocking Chair"
   ]
  },
  {
   "cell_type": "code",
   "execution_count": null,
   "metadata": {},
   "outputs": [],
   "source": [
    "# Generatrix: regular N-gon\n",
    "N = 3\n",
    "tube_radius = 0.4\n",
    "\n",
    "interior_angle = (N - 2) * PI / N\n",
    "generatrix_2d = torch.zeros(size=(N, 2))\n",
    "t = torch.linspace(-interior_angle/2, 2*PI - interior_angle/2, N + 1)\n",
    "generatrix_2d[:, 0] = tube_radius * torch.cos(t[:-1])\n",
    "generatrix_2d[:, 1] = tube_radius * torch.sin(t[:-1])\n",
    "\n",
    "fig, ax = plot_generatrix(generatrix_2d)"
   ]
  },
  {
   "cell_type": "code",
   "execution_count": null,
   "metadata": {},
   "outputs": [],
   "source": [
    "# Directrix: read curve from file\n",
    "cps_ref = load_curve_from_obj(os.path.join(paths[\"data\"], \"fig15_rocking_chair/directrix_Q.obj\"))\n",
    "K = cps_ref.shape[0]\n",
    "M = (K - 1) * 8 + 1"
   ]
  },
  {
   "cell_type": "code",
   "execution_count": null,
   "metadata": {},
   "outputs": [],
   "source": [
    "# Define symmetry transform\n",
    "y_axis = torch.tensor([0.0, 1.0, 0.0], dtype=TORCH_DTYPE)\n",
    "symm_2_fold_reflect = [\n",
    "    lambda pts: torch.flip(reflect_about_plane(pts, y_axis), dims=[0]),\n",
    "]\n",
    "symmetry_transforms = symm_2_fold_reflect\n",
    "\n",
    "# Select half of the curve\n",
    "n_fold_symm = 2\n",
    "K = (K - 1) // n_fold_symm + 1\n",
    "M = (M - 1) // n_fold_symm + 1\n",
    "cps_ref = cps_ref[:K]"
   ]
  },
  {
   "cell_type": "code",
   "execution_count": null,
   "metadata": {},
   "outputs": [],
   "source": [
    "# C-tube\n",
    "directrix = Directrix(cps_ref, M, symmetry_transforms=symmetry_transforms)\n",
    "\n",
    "X0 = directrix.X[0]\n",
    "T0 = directrix.get_tangents()[0]\n",
    "generatrix = Generatrix(generatrix_2d, X0, T0)\n",
    "\n",
    "plane_normals = get_bisecting_plane_normals_with_symmetry(directrix)\n",
    "\n",
    "tube = CTube(\n",
    "    directrix, generatrix, plane_normals,\n",
    "    symmetry_transforms=symmetry_transforms\n",
    ")"
   ]
  },
  {
   "cell_type": "code",
   "execution_count": null,
   "metadata": {},
   "outputs": [],
   "source": [
    "fig, ax = tube.plot_3d()"
   ]
  },
  {
   "cell_type": "code",
   "execution_count": null,
   "metadata": {},
   "outputs": [],
   "source": [
    "fig, ax = tube.plot_unrolled_strips()"
   ]
  },
  {
   "cell_type": "markdown",
   "metadata": {},
   "source": [
    "### Orientation constraints"
   ]
  },
  {
   "cell_type": "markdown",
   "metadata": {},
   "source": [
    "Rockers"
   ]
  },
  {
   "cell_type": "code",
   "execution_count": null,
   "metadata": {},
   "outputs": [],
   "source": [
    "# Select nodes below a certain height to prescribe orientation constraints for the rockers\n",
    "directrix = tube.get_polyline()\n",
    "tangents = compute_tangents(directrix)\n",
    "h_min = torch.min(directrix[:, 2])\n",
    "h_max = torch.max(directrix[:, 2])\n",
    "H = h_max - h_min\n",
    "\n",
    "height_threshold = 1.5 * H / 10\n",
    "nodes_below_threshold = directrix[:, 2] < h_min + height_threshold\n",
    "nodes_below_threshold_indices = torch.nonzero(nodes_below_threshold, as_tuple=False)[:, 0]\n",
    "nodes_below_threshold_indices -= 1  # as we want quads (edge), not nodes; this also avoids selecting the last node\n",
    "\n",
    "n = nodes_below_threshold_indices.shape[0]\n",
    "zm = torch.tensor([0.0, 0.0, -1.0])\n",
    "quad_orient_tube_indices_rockers = torch.full((n,), 0)\n",
    "quad_orient_disc_indices_rockers = nodes_below_threshold_indices\n",
    "strip_index = 2\n",
    "quad_orient_cross_section_indices_rockers = torch.full((n,), strip_index)\n",
    "\n",
    "# Compute targets as current normals with y component zeroed out\n",
    "ctube_vertices = tube.compute_vertices_with_symmetry()\n",
    "normals_rockers = compute_quad_normals([ctube_vertices], quad_orient_tube_indices_rockers, quad_orient_disc_indices_rockers, quad_orient_cross_section_indices_rockers)\n",
    "quad_orient_target_rockers = normals_rockers\n",
    "quad_orient_target_rockers[:, 1] = 0.0\n",
    "quad_orient_target_rockers = quad_orient_target_rockers / torch.linalg.norm(quad_orient_target_rockers, dim=1).unsqueeze(1)"
   ]
  },
  {
   "cell_type": "markdown",
   "metadata": {},
   "source": [
    "Headrest"
   ]
  },
  {
   "cell_type": "code",
   "execution_count": null,
   "metadata": {},
   "outputs": [],
   "source": [
    "# Select nodes above a certain height to prescribe orientation constraints for the headrest\n",
    "height_threshold = 9 * H / 10\n",
    "nodes_below_threshold = directrix[:, 2] > h_min + height_threshold\n",
    "nodes_below_threshold_indices = torch.nonzero(nodes_below_threshold, as_tuple=False)[:, 0]\n",
    "nodes_below_threshold_indices -= 1  # as we want quads (edge), not nodes – this also avoids selecting the last node\n",
    "\n",
    "n = nodes_below_threshold_indices.shape[0]\n",
    "xp = torch.tensor([1.0, 0.0, 0.0])\n",
    "quad_orient_tube_indices_headrest = torch.full((n,), 0)\n",
    "quad_orient_disc_indices_headrest = nodes_below_threshold_indices\n",
    "strip_index = 0\n",
    "quad_orient_cross_section_indices_headrest = torch.full((n,), strip_index)\n",
    "\n",
    "# Compute targets as current normals with additional rotation about the curve tangent\n",
    "normals_headrest = compute_quad_normals([ctube_vertices], quad_orient_tube_indices_headrest, quad_orient_disc_indices_headrest, quad_orient_cross_section_indices_headrest)\n",
    "for li, gi in enumerate(quad_orient_disc_indices_headrest):\n",
    "    tangent = tangents[gi]\n",
    "    angle = torch.tensor(PI/6)\n",
    "    normals_headrest[li] = rotate_about_axis(normals_headrest[li].reshape(-1, 3), angle=angle, axis=tangent)\n",
    "quad_orient_target_headrest = normals_headrest / torch.linalg.norm(normals_headrest, dim=1).unsqueeze(1)"
   ]
  },
  {
   "cell_type": "markdown",
   "metadata": {},
   "source": [
    "Seat"
   ]
  },
  {
   "cell_type": "code",
   "execution_count": null,
   "metadata": {},
   "outputs": [],
   "source": [
    "# Select starting points, up to a threshold value of the curve parameter, for the seat\n",
    "n_starting_points = tube.M // 6\n",
    "quad_orient_tube_indices_seat = torch.full((n_starting_points,), 0)\n",
    "quad_orient_disc_indices_seat = torch.arange(n_starting_points)\n",
    "strip_index = 2\n",
    "quad_orient_cross_section_indices_seat = torch.full((n_starting_points,), strip_index)\n",
    "\n",
    "# Compute targets as current normals with additional rotation about the curve tangent\n",
    "normals_seat = compute_quad_normals([ctube_vertices], quad_orient_tube_indices_seat, quad_orient_disc_indices_seat, quad_orient_cross_section_indices_seat)\n",
    "quad_orient_target_seat = normals_seat / torch.linalg.norm(normals_seat, dim=1).unsqueeze(1)"
   ]
  },
  {
   "cell_type": "code",
   "execution_count": null,
   "metadata": {},
   "outputs": [],
   "source": [
    "quad_orient_tube_indices = torch.cat([quad_orient_tube_indices_rockers, quad_orient_tube_indices_headrest, quad_orient_tube_indices_seat])\n",
    "quad_orient_disc_indices = torch.cat([quad_orient_disc_indices_rockers, quad_orient_disc_indices_headrest, quad_orient_disc_indices_seat])\n",
    "quad_orient_cross_section_indices = torch.cat([quad_orient_cross_section_indices_rockers, quad_orient_cross_section_indices_headrest, quad_orient_cross_section_indices_seat])\n",
    "quad_orient_target = torch.cat([quad_orient_target_rockers, quad_orient_target_headrest, quad_orient_target_seat])"
   ]
  },
  {
   "cell_type": "markdown",
   "metadata": {},
   "source": [
    "### Optimization"
   ]
  },
  {
   "cell_type": "code",
   "execution_count": null,
   "metadata": {},
   "outputs": [],
   "source": [
    "# Load target cross-section radii from file\n",
    "target_cross_section_radii = torch.tensor(\n",
    "    np.loadtxt(os.path.join(paths[\"data\"], \"fig15_rocking_chair/target_cross_section_radii.txt\")), \n",
    "    dtype=TORCH_DTYPE\n",
    ")"
   ]
  },
  {
   "cell_type": "code",
   "execution_count": null,
   "metadata": {},
   "outputs": [],
   "source": [
    "# Set up optimization problem\n",
    "\n",
    "opt_weights = {\n",
    "    'match_target_cross_section_radius': 5.25e1 / generatrix.aabb_diagonal_length() ** 2,\n",
    "    'join_ends': 1.0 / generatrix.aabb_diagonal_length() ** 2,\n",
    "    'smooth_plane_normal_diffs': 1e-1,\n",
    "    'smooth_apex_loc_func': 1e2,\n",
    "    'quad_orientation': 1e1,\n",
    "}\n",
    "\n",
    "objective_args = {\n",
    "    \n",
    "    # Target cross-section radius\n",
    "    'target_cross_section_radii': target_cross_section_radii,\n",
    "\n",
    "    # Join ends\n",
    "    'join_ends_pairings': get_pairings_all(N),\n",
    "\n",
    "    # Quad orientation\n",
    "    'quad_orient_tube_indices': quad_orient_tube_indices,\n",
    "    'quad_orient_disc_indices': quad_orient_disc_indices,\n",
    "    'quad_orient_cross_section_indices': quad_orient_cross_section_indices,\n",
    "    'quad_orient_target': quad_orient_target,\n",
    "}\n",
    "\n",
    "opt_prob = CTubeOptimizationProblem(\n",
    "    tube, \n",
    "    opt_weights, \n",
    "    objective_args,\n",
    ")\n",
    "\n",
    "opt_prob.activate_cps(False)\n",
    "opt_prob.activate_theta(True)\n",
    "opt_prob.activate_apex_loc_func(True)\n",
    "opt_prob.activate_plane_normals(True)"
   ]
  },
  {
   "cell_type": "code",
   "execution_count": null,
   "metadata": {},
   "outputs": [],
   "source": [
    "opt_prob.compute_objective(print_to_console=True)"
   ]
  },
  {
   "cell_type": "code",
   "execution_count": null,
   "metadata": {},
   "outputs": [],
   "source": [
    "from scipy.optimize import minimize\n",
    "from Ctubes.opt import obj_and_grad\n",
    "\n",
    "torch.autograd.set_detect_anomaly(False)\n",
    "\n",
    "# Set up optimization configuration\n",
    "opt_prob.configure_optimization_output(paths)\n",
    "\n",
    "# Get initial parameters\n",
    "params0 = opt_prob.get_params_numpy()\n",
    "\n",
    "# Define objective and gradient function for SciPy\n",
    "obj_and_grad_scipy = lambda params: obj_and_grad(params, opt_prob)\n",
    "\n",
    "# Fix variables via double-sided bounds\n",
    "fixed_indices = []  # no fixed DOF by default\n",
    "dofs = opt_prob.get_dof_indices_plane_normals()\n",
    "fixed_indices += dofs[:6] + dofs[-6:]  # fix first two and last two plane normals\n",
    "fixed_indices = list(set(fixed_indices))  # remove duplicates\n",
    "fixed_indices = sorted(fixed_indices)\n",
    "\n",
    "bounds = [(None, None)] * len(params0)\n",
    "for idx in fixed_indices:\n",
    "    bounds[idx] = (params0[idx], params0[idx])\n",
    "print(f\"Fixing {len(fixed_indices)} parameters.\")\n",
    "\n",
    "# Add initial state to history\n",
    "opt_prob.add_objective_to_history()"
   ]
  },
  {
   "cell_type": "code",
   "execution_count": null,
   "metadata": {},
   "outputs": [],
   "source": [
    "# Run optimization\n",
    "start_time = time.time()\n",
    "result = minimize(\n",
    "    obj_and_grad_scipy, \n",
    "    params0, \n",
    "    jac=True, \n",
    "    method='L-BFGS-B',\n",
    "    options={'ftol': 1.0e-10, 'gtol': 1.0e-5, 'disp': True, 'maxiter': 1000},\n",
    "    bounds=bounds,\n",
    "    callback=opt_prob.optimization_callback,\n",
    ")\n",
    "result.execution_time = time.time() - start_time\n",
    "\n",
    "# Finalize optimization (save results, render videos, cleanup)\n",
    "opt_prob.finalize_optimization(result)"
   ]
  },
  {
   "cell_type": "code",
   "execution_count": null,
   "metadata": {},
   "outputs": [],
   "source": [
    "opt_prob.compute_objective(print_to_console=True)"
   ]
  },
  {
   "cell_type": "code",
   "execution_count": null,
   "metadata": {},
   "outputs": [],
   "source": [
    "fig, ax = opt_prob.plot_objective_history()"
   ]
  },
  {
   "cell_type": "code",
   "execution_count": null,
   "metadata": {},
   "outputs": [],
   "source": [
    "fig, ax = opt_prob.plot_3d()"
   ]
  },
  {
   "cell_type": "code",
   "execution_count": null,
   "metadata": {},
   "outputs": [],
   "source": [
    "fig, ax = opt_prob.plot_unrolled_strips()"
   ]
  },
  {
   "cell_type": "code",
   "execution_count": null,
   "metadata": {},
   "outputs": [],
   "source": [
    "fig, ax = opt_prob.plot_cross_section_radii()"
   ]
  },
  {
   "cell_type": "code",
   "execution_count": null,
   "metadata": {},
   "outputs": [],
   "source": [
    "fig, ax = opt_prob.plot_apex_loc_func()"
   ]
  },
  {
   "cell_type": "code",
   "execution_count": null,
   "metadata": {},
   "outputs": [],
   "source": [
    "# Export quad orientation data as obj\n",
    "# Each orientation vector is represented as a segment with the origin at the quad center\n",
    "# and the orientation vector as the direction\n",
    "from Ctubes.geometry_utils import compute_quad_centers\n",
    "\n",
    "quad_orient_tube_indices = opt_prob.objective_args['quad_orient_tube_indices']\n",
    "quad_orient_disc_indices = opt_prob.objective_args['quad_orient_disc_indices']\n",
    "quad_orient_cross_section_indices = opt_prob.objective_args['quad_orient_cross_section_indices']\n",
    "quad_orient_target = opt_prob.objective_args['quad_orient_target']\n",
    "vertices = opt_prob.tube_network.compute_vertices()\n",
    "\n",
    "# Symmetrize all data w.r.t. the xz-plane\n",
    "quad_orient_tube_indices_full = torch.cat([quad_orient_tube_indices, quad_orient_tube_indices])\n",
    "quad_orient_disc_indices_full = torch.cat([quad_orient_disc_indices, 2*(tube.M - 1) - 1 - quad_orient_disc_indices])\n",
    "quad_orient_cross_section_indices_full = torch.cat([quad_orient_cross_section_indices, quad_orient_cross_section_indices])\n",
    "quad_orient_target_symm = quad_orient_target.clone()\n",
    "quad_orient_target_symm[:, 1] = -quad_orient_target_symm[:, 1]\n",
    "quad_orient_target_full = torch.cat([quad_orient_target, quad_orient_target_symm])\n",
    "vertices_full = [opt_prob.tube_network.tubes[0].compute_vertices_with_symmetry()]\n",
    "\n",
    "# Compute the quad centers\n",
    "quad_centers = compute_quad_centers(vertices_full, quad_orient_tube_indices_full, quad_orient_disc_indices_full, quad_orient_cross_section_indices_full)\n",
    "\n",
    "# Compute the end points of the orientation vectors\n",
    "quad_orient_target_full = quad_orient_target_full.detach().numpy()\n",
    "quad_orient_endpoints = quad_centers + quad_orient_target_full\n",
    "\n",
    "# Write the data to an obj file\n",
    "obj_file = os.path.join(paths[\"output_opt\"], \"quad_orient.obj\")\n",
    "with open(obj_file, 'w') as f:\n",
    "    for i in range(quad_centers.shape[0]):\n",
    "        f.write(f\"v {quad_centers[i, 0]} {quad_centers[i, 1]} {quad_centers[i, 2]}\\n\")\n",
    "        f.write(f\"v {quad_orient_endpoints[i, 0]} {quad_orient_endpoints[i, 1]} {quad_orient_endpoints[i, 2]}\\n\")\n",
    "        f.write(\"l -1 -2\\n\")\n",
    "\n",
    "# Compute the quad normals\n",
    "quad_normals = compute_quad_normals(vertices_full, quad_orient_tube_indices_full, quad_orient_disc_indices_full, quad_orient_cross_section_indices_full)\n",
    "\n",
    "# Translate the normals to the quad centers\n",
    "quad_normals_endpoints = quad_centers + quad_normals\n",
    "\n",
    "# Write the data to an obj file\n",
    "obj_file = os.path.join(paths[\"output_opt\"], \"quad_normals.obj\")\n",
    "with open(obj_file, 'w') as f:\n",
    "    for i in range(quad_centers.shape[0]):\n",
    "        f.write(f\"v {quad_centers[i, 0]} {quad_centers[i, 1]} {quad_centers[i, 2]}\\n\")\n",
    "        f.write(f\"v {quad_normals_endpoints[i, 0]} {quad_normals_endpoints[i, 1]} {quad_normals_endpoints[i, 2]}\\n\")\n",
    "        f.write(\"l -1 -2\\n\")"
   ]
  },
  {
   "cell_type": "code",
   "execution_count": null,
   "metadata": {},
   "outputs": [],
   "source": []
  }
 ],
 "metadata": {
  "kernelspec": {
   "display_name": "dev_tube_env",
   "language": "python",
   "name": "python3"
  },
  "language_info": {
   "codemirror_mode": {
    "name": "ipython",
    "version": 3
   },
   "file_extension": ".py",
   "mimetype": "text/x-python",
   "name": "python",
   "nbconvert_exporter": "python",
   "pygments_lexer": "ipython3",
   "version": "3.11.10"
  }
 },
 "nbformat": 4,
 "nbformat_minor": 2
}

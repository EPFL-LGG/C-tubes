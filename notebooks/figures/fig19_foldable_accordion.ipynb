{
 "cells": [
  {
   "cell_type": "code",
   "execution_count": null,
   "metadata": {},
   "outputs": [],
   "source": [
    "import numpy as np, torch, time\n",
    "from Ctubes.curve_parametrizations import trefoil_parameterization\n",
    "from Ctubes.geometry_utils import (\n",
    "    rotate_about_axis, regular_polygon, \n",
    "    compute_binormals, get_bisecting_plane_normals_with_symmetry\n",
    ")\n",
    "from Ctubes.plot_utils import plot_generatrix\n",
    "from Ctubes.tubes import Directrix, Generatrix, CTube\n",
    "from Ctubes.opt import CTubeOptimizationProblem\n",
    "from Ctubes.misc_utils import get_pairings_exact\n",
    "from Ctubes.path_utils import get_name, setup_paths\n",
    "\n",
    "paths = setup_paths(get_name())\n",
    "\n",
    "PI = np.pi\n",
    "TORCH_DTYPE = torch.float64\n",
    "torch.set_default_dtype(TORCH_DTYPE)\n",
    "torch.set_printoptions(precision=4)\n",
    "\n",
    "%load_ext autoreload\n",
    "%autoreload 2\n",
    "\n",
    "%matplotlib widget"
   ]
  },
  {
   "cell_type": "markdown",
   "metadata": {},
   "source": [
    "# Figure 19: Fodable Accordion Trefoil"
   ]
  },
  {
   "cell_type": "code",
   "execution_count": null,
   "metadata": {},
   "outputs": [],
   "source": [
    "# Generatrix: regular N-gon\n",
    "N = 4\n",
    "tube_radius = 0.3\n",
    "generatrix_2d = regular_polygon(N, tube_radius)\n",
    "\n",
    "fig, ax = plot_generatrix(generatrix_2d)"
   ]
  },
  {
   "cell_type": "code",
   "execution_count": null,
   "metadata": {},
   "outputs": [],
   "source": [
    "# DIrectrix: coarse trefoil knot with binormal offsets \n",
    "closed_curve = True\n",
    "K_per_lobe = 12\n",
    "n_fold_symm = 3\n",
    "K = K_per_lobe * n_fold_symm + 1\n",
    "M = K\n",
    "\n",
    "# Define the spline\n",
    "ts_disc_curve = torch.linspace(0.0, 2.0 * PI, K)\n",
    "cps_ref = trefoil_parameterization(ts_disc_curve)\n",
    "\n",
    "# z-scale\n",
    "cps_ref[:, 2] *= 1.5\n",
    "\n",
    "# Offset points along +/- the curve binormal\n",
    "binormals = compute_binormals(cps_ref)\n",
    "offset_dir = binormals\n",
    "offset_dir[1::2] = -offset_dir[1::2]\n",
    "offset_dir *= 0.8 * tube_radius\n",
    "cps_ref[1:K_per_lobe] += offset_dir[1:K_per_lobe]\n",
    "cps_ref[-1] = cps_ref[0]"
   ]
  },
  {
   "cell_type": "code",
   "execution_count": null,
   "metadata": {},
   "outputs": [],
   "source": [
    "# Define symmetry transforms\n",
    "z_axis = torch.tensor([0.0, 0.0, 1.0], dtype=TORCH_DTYPE)\n",
    "symm_3_fold = [\n",
    "    lambda pts: rotate_about_axis(pts, z_axis, torch.tensor(4*PI/3)),\n",
    "    lambda pts: rotate_about_axis(pts, z_axis, torch.tensor(8*PI/3)),\n",
    "]\n",
    "symmetry_transforms = symm_3_fold\n",
    "\n",
    "# Select one third of the curve\n",
    "K = (K - 1) // n_fold_symm + 1\n",
    "M = (M - 1) // n_fold_symm + 1\n",
    "cps_ref = cps_ref[:K]"
   ]
  },
  {
   "cell_type": "code",
   "execution_count": null,
   "metadata": {},
   "outputs": [],
   "source": [
    "# C-tube\n",
    "directrix = Directrix(cps_ref, M, symmetry_transforms=symmetry_transforms)\n",
    "\n",
    "X0 = directrix.X[0]\n",
    "T0 = directrix.get_tangents()[0]\n",
    "generatrix = Generatrix(generatrix_2d, X0, T0)\n",
    "\n",
    "\n",
    "plane_normals = get_bisecting_plane_normals_with_symmetry(directrix)\n",
    "\n",
    "tube = CTube(\n",
    "    directrix, generatrix, plane_normals,\n",
    "    symmetry_transforms=symmetry_transforms\n",
    ")"
   ]
  },
  {
   "cell_type": "code",
   "execution_count": null,
   "metadata": {},
   "outputs": [],
   "source": [
    "fig, ax = tube.plot_3d()"
   ]
  },
  {
   "cell_type": "code",
   "execution_count": null,
   "metadata": {},
   "outputs": [],
   "source": [
    "fig, ax = tube.plot_unrolled_strips()"
   ]
  },
  {
   "cell_type": "markdown",
   "metadata": {},
   "source": [
    "### Optimization"
   ]
  },
  {
   "cell_type": "code",
   "execution_count": null,
   "metadata": {},
   "outputs": [],
   "source": [
    "# Set up optimization problem\n",
    "\n",
    "opt_weights = {\n",
    "    'preserve_curve': 1e-2 / directrix.aabb_diagonal_length() ** 2,\n",
    "    'join_ends': 1.0 / generatrix.aabb_diagonal_length() ** 2,\n",
    "}\n",
    "\n",
    "objective_args = {\n",
    "    'join_ends_pairings': get_pairings_exact(N),\n",
    "}\n",
    "\n",
    "opt_prob = CTubeOptimizationProblem(\n",
    "    tube, \n",
    "    opt_weights, \n",
    "    objective_args,\n",
    ")\n",
    "\n",
    "opt_prob.activate_cps(True)\n",
    "opt_prob.activate_theta(False)\n",
    "opt_prob.activate_apex_loc_func(False)\n",
    "opt_prob.activate_plane_normals(False)"
   ]
  },
  {
   "cell_type": "code",
   "execution_count": null,
   "metadata": {},
   "outputs": [],
   "source": [
    "opt_prob.opt_weights['smooth_plane_normal_diffs'] = 0.0  # deactivate plane normal smoothing"
   ]
  },
  {
   "cell_type": "code",
   "execution_count": null,
   "metadata": {},
   "outputs": [],
   "source": [
    "opt_prob.compute_objective(print_to_console=True)"
   ]
  },
  {
   "cell_type": "code",
   "execution_count": null,
   "metadata": {},
   "outputs": [],
   "source": [
    "from scipy.optimize import minimize\n",
    "from Ctubes.opt import obj_and_grad\n",
    "\n",
    "torch.autograd.set_detect_anomaly(False)\n",
    "\n",
    "# Set up optimization configuration\n",
    "opt_prob.configure_optimization_output(paths)\n",
    "\n",
    "# Get initial parameters\n",
    "params0 = opt_prob.get_params_numpy()\n",
    "\n",
    "# Define objective and gradient function for SciPy\n",
    "obj_and_grad_scipy = lambda params: obj_and_grad(params, opt_prob)\n",
    "\n",
    "# Fix variables via double-sided bounds\n",
    "fixed_indices = []\n",
    "dofs = opt_prob.get_dof_indices_cps()\n",
    "fixed_indices += dofs[:3] + dofs[-3:]  # fix endpoints\n",
    "fixed_indices = list(set(fixed_indices))  # remove duplicates\n",
    "fixed_indices = sorted(fixed_indices)\n",
    "\n",
    "bounds = [(None, None)] * len(params0)\n",
    "for idx in fixed_indices:\n",
    "    bounds[idx] = (params0[idx], params0[idx])\n",
    "print(f\"Fixing {len(fixed_indices)} parameters.\")\n",
    "\n",
    "# Add initial state to history\n",
    "opt_prob.add_objective_to_history()"
   ]
  },
  {
   "cell_type": "code",
   "execution_count": null,
   "metadata": {},
   "outputs": [],
   "source": [
    "# Run optimization\n",
    "start_time = time.time()\n",
    "result = minimize(\n",
    "    obj_and_grad_scipy, \n",
    "    params0, \n",
    "    jac=True, \n",
    "    method='L-BFGS-B',\n",
    "    options={'ftol': 1.0e-10, 'gtol': 1.0e-5, 'disp': True, 'maxiter': 2000},\n",
    "    bounds=bounds,\n",
    "    callback=opt_prob.optimization_callback,\n",
    ")\n",
    "result.execution_time = time.time() - start_time\n",
    "\n",
    "# Finalize optimization (save results, render videos, cleanup)\n",
    "opt_prob.finalize_optimization(result)"
   ]
  },
  {
   "cell_type": "code",
   "execution_count": null,
   "metadata": {},
   "outputs": [],
   "source": [
    "opt_prob.compute_objective(print_to_console=True)"
   ]
  },
  {
   "cell_type": "code",
   "execution_count": null,
   "metadata": {},
   "outputs": [],
   "source": [
    "fig, ax = opt_prob.plot_objective_history()"
   ]
  },
  {
   "cell_type": "code",
   "execution_count": null,
   "metadata": {},
   "outputs": [],
   "source": [
    "fig, ax = opt_prob.plot_3d()"
   ]
  },
  {
   "cell_type": "code",
   "execution_count": null,
   "metadata": {},
   "outputs": [],
   "source": [
    "fig, ax = opt_prob.plot_unrolled_strips()"
   ]
  }
 ],
 "metadata": {
  "kernelspec": {
   "display_name": "dev_tube_env",
   "language": "python",
   "name": "python3"
  },
  "language_info": {
   "codemirror_mode": {
    "name": "ipython",
    "version": 3
   },
   "file_extension": ".py",
   "mimetype": "text/x-python",
   "name": "python",
   "nbconvert_exporter": "python",
   "pygments_lexer": "ipython3",
   "version": "3.11.10"
  }
 },
 "nbformat": 4,
 "nbformat_minor": 2
}

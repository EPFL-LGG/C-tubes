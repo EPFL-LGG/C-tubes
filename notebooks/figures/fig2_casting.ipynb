{
 "cells": [
  {
   "cell_type": "code",
   "execution_count": null,
   "metadata": {},
   "outputs": [],
   "source": [
    "import numpy as np, torch, time, os\n",
    "from Ctubes.plot_utils import plot_generatrix\n",
    "from Ctubes.tubes import Directrix, Generatrix, CTube\n",
    "from Ctubes.opt import CTubeOptimizationProblem\n",
    "from Ctubes.misc_utils import get_pairings_all, load_curve_from_obj\n",
    "from Ctubes.path_utils import get_name, setup_paths\n",
    "\n",
    "paths = setup_paths(get_name())\n",
    "\n",
    "PI = np.pi\n",
    "TORCH_DTYPE = torch.float64\n",
    "torch.set_default_dtype(TORCH_DTYPE)\n",
    "torch.set_printoptions(precision=4)\n",
    "\n",
    "%load_ext autoreload\n",
    "%autoreload 2\n",
    "\n",
    "%matplotlib widget"
   ]
  },
  {
   "cell_type": "markdown",
   "metadata": {},
   "source": [
    "# Figure 2: C-tube Mold for Casting"
   ]
  },
  {
   "cell_type": "code",
   "execution_count": null,
   "metadata": {},
   "outputs": [],
   "source": [
    "# Directrix: read curve from file\n",
    "cps_ref = load_curve_from_obj(os.path.join(paths[\"data\"], \"fig2_casting/directrix_Q.obj\"))\n",
    "K = cps_ref.shape[0]\n",
    "M = (K - 1) * 5 + 1"
   ]
  },
  {
   "cell_type": "code",
   "execution_count": null,
   "metadata": {},
   "outputs": [],
   "source": [
    "# Generatrix: rhombus\n",
    "N = 4\n",
    "tube_radius = 0.8\n",
    "\n",
    "generatrix_2d = torch.zeros(size=(N, 2))\n",
    "generatrix_2d[0, 0] =   tube_radius * 1.0\n",
    "generatrix_2d[1, 1] =   tube_radius * torch.sqrt(torch.tensor(3.0))\n",
    "generatrix_2d[2, 0] = - tube_radius * 1.0\n",
    "generatrix_2d[3, 1] = - tube_radius * torch.sqrt(torch.tensor(3.0))\n",
    "\n",
    "fig, ax = plot_generatrix(generatrix_2d)"
   ]
  },
  {
   "cell_type": "code",
   "execution_count": null,
   "metadata": {},
   "outputs": [],
   "source": [
    "# C-tube\n",
    "directrix = Directrix(cps_ref, M)\n",
    "\n",
    "X0 = directrix.X[0]\n",
    "T0 = directrix.get_tangents()[0]\n",
    "generatrix = Generatrix(generatrix_2d, X0, T0)\n",
    "\n",
    "tube = CTube(directrix, generatrix)"
   ]
  },
  {
   "cell_type": "code",
   "execution_count": null,
   "metadata": {},
   "outputs": [],
   "source": [
    "fig, ax = tube.plot_3d()"
   ]
  },
  {
   "cell_type": "code",
   "execution_count": null,
   "metadata": {},
   "outputs": [],
   "source": [
    "fig, ax = tube.plot_unrolled_strips()"
   ]
  },
  {
   "cell_type": "markdown",
   "metadata": {},
   "source": [
    "### Optimization"
   ]
  },
  {
   "cell_type": "code",
   "execution_count": null,
   "metadata": {},
   "outputs": [],
   "source": [
    "# Load target cross-section radii from file\n",
    "target_cross_section_radii = torch.tensor(\n",
    "    np.loadtxt(os.path.join(paths[\"data\"], \"fig2_casting/target_cross_section_radii.txt\")), \n",
    "    dtype=TORCH_DTYPE\n",
    ")"
   ]
  },
  {
   "cell_type": "code",
   "execution_count": null,
   "metadata": {},
   "outputs": [],
   "source": [
    "# Set up optimization problem\n",
    "\n",
    "opt_weights = {\n",
    "    'match_target_cross_section_radius': 1.6e1 / generatrix.aabb_diagonal_length() ** 2,\n",
    "    'smooth_plane_normal_diffs': 1e-1,\n",
    "    'smooth_apex_loc_func': 1e2,\n",
    "    'join_ends': 1e1 / generatrix.aabb_diagonal_length() ** 2,\n",
    "}\n",
    "\n",
    "objective_args = {\n",
    "    'target_cross_section_radii': target_cross_section_radii,\n",
    "    'join_ends_pairings': get_pairings_all(N),\n",
    "}\n",
    "\n",
    "opt_prob = CTubeOptimizationProblem(\n",
    "    tube, \n",
    "    opt_weights, \n",
    "    objective_args,\n",
    ")\n",
    "\n",
    "opt_prob.activate_cps(False)\n",
    "opt_prob.activate_theta(False)\n",
    "opt_prob.activate_apex_loc_func(True)\n",
    "opt_prob.activate_plane_normals(True)"
   ]
  },
  {
   "cell_type": "code",
   "execution_count": null,
   "metadata": {},
   "outputs": [],
   "source": [
    "opt_prob.compute_objective(print_to_console=True)"
   ]
  },
  {
   "cell_type": "code",
   "execution_count": null,
   "metadata": {},
   "outputs": [],
   "source": [
    "from scipy.optimize import minimize\n",
    "from Ctubes.opt import obj_and_grad\n",
    "\n",
    "torch.autograd.set_detect_anomaly(False)\n",
    "\n",
    "# Set up optimization configuration\n",
    "opt_prob.configure_optimization_output(paths)\n",
    "\n",
    "# Get initial parameters\n",
    "params0 = opt_prob.get_params_numpy()\n",
    "\n",
    "# Define objective and gradient function for SciPy\n",
    "obj_and_grad_scipy = lambda params: obj_and_grad(params, opt_prob)\n",
    "\n",
    "# Fix variables via double-sided bounds\n",
    "fixed_indices = []  # no fixed DOF by default\n",
    "\n",
    "bounds = [(None, None)] * len(params0)\n",
    "for idx in fixed_indices:\n",
    "    bounds[idx] = (params0[idx], params0[idx])\n",
    "print(f\"Fixing {len(fixed_indices)} parameters.\")\n",
    "\n",
    "# Add initial state to history\n",
    "opt_prob.add_objective_to_history()"
   ]
  },
  {
   "cell_type": "code",
   "execution_count": null,
   "metadata": {},
   "outputs": [],
   "source": [
    "# Run optimization\n",
    "start_time = time.time()\n",
    "result = minimize(\n",
    "    obj_and_grad_scipy, \n",
    "    params0, \n",
    "    jac=True, \n",
    "    method='L-BFGS-B',\n",
    "    options={'ftol': 1.0e-10, 'gtol': 1.0e-5, 'disp': True, 'maxiter': 2000},\n",
    "    bounds=bounds,\n",
    "    callback=opt_prob.optimization_callback,\n",
    ")\n",
    "result.execution_time = time.time() - start_time\n",
    "\n",
    "# Finalize optimization (save results, render videos, cleanup)\n",
    "opt_prob.finalize_optimization(result)"
   ]
  },
  {
   "cell_type": "code",
   "execution_count": null,
   "metadata": {},
   "outputs": [],
   "source": [
    "opt_prob.compute_objective(print_to_console=True)"
   ]
  },
  {
   "cell_type": "code",
   "execution_count": null,
   "metadata": {},
   "outputs": [],
   "source": [
    "fig, ax = opt_prob.plot_objective_history()"
   ]
  },
  {
   "cell_type": "code",
   "execution_count": null,
   "metadata": {},
   "outputs": [],
   "source": [
    "fig, ax = opt_prob.plot_3d()"
   ]
  },
  {
   "cell_type": "code",
   "execution_count": null,
   "metadata": {},
   "outputs": [],
   "source": [
    "fig, ax = opt_prob.plot_unrolled_strips()"
   ]
  },
  {
   "cell_type": "code",
   "execution_count": null,
   "metadata": {},
   "outputs": [],
   "source": [
    "fig, ax = opt_prob.plot_cross_section_radii()"
   ]
  },
  {
   "cell_type": "code",
   "execution_count": null,
   "metadata": {},
   "outputs": [],
   "source": []
  }
 ],
 "metadata": {
  "kernelspec": {
   "display_name": "C-tubes",
   "language": "python",
   "name": "python3"
  },
  "language_info": {
   "codemirror_mode": {
    "name": "ipython",
    "version": 3
   },
   "file_extension": ".py",
   "mimetype": "text/x-python",
   "name": "python",
   "nbconvert_exporter": "python",
   "pygments_lexer": "ipython3",
   "version": "3.11.13"
  }
 },
 "nbformat": 4,
 "nbformat_minor": 2
}

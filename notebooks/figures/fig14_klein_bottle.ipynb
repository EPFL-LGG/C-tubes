{
 "cells": [
  {
   "cell_type": "code",
   "execution_count": null,
   "metadata": {},
   "outputs": [],
   "source": [
    "import numpy as np, torch, time, os\n",
    "from Ctubes.geometry_utils import compute_plane_normals, compute_cross_section_radii, regular_polygon\n",
    "from Ctubes.plot_utils import plot_generatrix\n",
    "from Ctubes.tubes import Directrix, Generatrix, CTube\n",
    "from Ctubes.target_cross_sections import fix_end_cross_sections\n",
    "from Ctubes.opt import CTubeOptimizationProblem\n",
    "from Ctubes.misc_utils import load_curve_from_obj\n",
    "from Ctubes.path_utils import get_name, setup_paths\n",
    "\n",
    "paths = setup_paths(get_name())\n",
    "\n",
    "PI = np.pi\n",
    "TORCH_DTYPE = torch.float64\n",
    "torch.set_default_dtype(TORCH_DTYPE)\n",
    "torch.set_printoptions(precision=4)\n",
    "\n",
    "%load_ext autoreload\n",
    "%autoreload 2\n",
    "\n",
    "%matplotlib widget"
   ]
  },
  {
   "cell_type": "markdown",
   "metadata": {},
   "source": [
    "# Figure 14: Klein Bottle"
   ]
  },
  {
   "cell_type": "code",
   "execution_count": null,
   "metadata": {},
   "outputs": [],
   "source": [
    "# Directrix: read curve from file\n",
    "cps_ref = load_curve_from_obj(os.path.join(paths[\"data\"], \"fig14_klein_bottle/directrix_Q.obj\"))\n",
    "K = cps_ref.shape[0]\n",
    "M = K"
   ]
  },
  {
   "cell_type": "code",
   "execution_count": null,
   "metadata": {},
   "outputs": [],
   "source": [
    "# Generatrix: regular N-gon\n",
    "N = 6\n",
    "tube_radius = 0.3\n",
    "generatrix_2d = regular_polygon(N, tube_radius)\n",
    "\n",
    "# Rotate by -90 degrees about the z axis\n",
    "rotation_matrix = torch.tensor([[0.0, 1.0], [-1.0, 0.0]], dtype=TORCH_DTYPE)\n",
    "generatrix_2d = (rotation_matrix @ generatrix_2d.T).T\n",
    "\n",
    "fig, ax = plot_generatrix(generatrix_2d)"
   ]
  },
  {
   "cell_type": "code",
   "execution_count": null,
   "metadata": {},
   "outputs": [],
   "source": [
    "# C-tube\n",
    "directrix = Directrix(cps_ref, M)\n",
    "directrix.closed_curve = False  # avoid artifacts due to closure at cusp\n",
    "\n",
    "X0 = directrix.X[0]\n",
    "T0 = directrix.get_tangents()[0]\n",
    "generatrix = Generatrix(generatrix_2d, X0, T0)\n",
    "\n",
    "plane_normals_ref = compute_plane_normals(directrix.X, kind='bisecting', closed_curve=directrix.closed_curve)\n",
    "z_axis = torch.tensor([0.0, 0.0, 1.0])\n",
    "plane_normals_ref[0] = z_axis\n",
    "plane_normals_ref[1] = z_axis\n",
    "plane_normals_ref[-1] = -z_axis\n",
    "plane_normals_ref[-2] = -z_axis\n",
    "\n",
    "tube = CTube(directrix, generatrix, plane_normals_ref)"
   ]
  },
  {
   "cell_type": "code",
   "execution_count": null,
   "metadata": {},
   "outputs": [],
   "source": [
    "# Load target cross-section radii from file\n",
    "target_cross_section_radii = torch.tensor(\n",
    "    np.loadtxt(os.path.join(paths[\"data\"], \"fig14_klein_bottle/target_cross_section_radii.txt\")), \n",
    "    dtype=TORCH_DTYPE\n",
    ")"
   ]
  },
  {
   "cell_type": "code",
   "execution_count": null,
   "metadata": {},
   "outputs": [],
   "source": [
    "# Set init scale to match the target cross-section radius\n",
    "curr_cs_radii = compute_cross_section_radii(tube.get_polyline(), tube.compute_vertices())\n",
    "init_scale_ref = target_cross_section_radii[0] / curr_cs_radii[0]\n",
    "tube.set_init_scale(init_scale_ref)\n",
    "tube.update_ctube_vertices()"
   ]
  },
  {
   "cell_type": "code",
   "execution_count": null,
   "metadata": {},
   "outputs": [],
   "source": [
    "fig, ax = tube.plot_3d()"
   ]
  },
  {
   "cell_type": "code",
   "execution_count": null,
   "metadata": {},
   "outputs": [],
   "source": [
    "fig, ax = tube.plot_unrolled_strips()"
   ]
  },
  {
   "cell_type": "markdown",
   "metadata": {},
   "source": [
    "### Optimization"
   ]
  },
  {
   "cell_type": "code",
   "execution_count": null,
   "metadata": {},
   "outputs": [],
   "source": [
    "# Set up optimization problem\n",
    "\n",
    "opt_weights = {\n",
    "    'match_target_cross_sections': 1e3 / generatrix.aabb_diagonal_length() ** 2,\n",
    "    'match_target_cross_section_radius': 1e1 / generatrix.aabb_diagonal_length() ** 2,\n",
    "    'smooth_tube_ridges': 1e2 / directrix.aabb_diagonal_length() ** 2,\n",
    "    'smooth_plane_normal_diffs': 0e0,\n",
    "    'smooth_apex_loc_func': 0e0,\n",
    "}\n",
    "\n",
    "objective_args = {\n",
    "    'target_cross_sections': fix_end_cross_sections(tube),\n",
    "    'target_cross_section_radii': target_cross_section_radii,\n",
    "}\n",
    "\n",
    "opt_prob = CTubeOptimizationProblem(\n",
    "    tube, \n",
    "    opt_weights, \n",
    "    objective_args,\n",
    ")\n",
    "\n",
    "opt_prob.activate_cps(False)\n",
    "opt_prob.activate_theta(False)\n",
    "opt_prob.activate_apex_loc_func(True)\n",
    "opt_prob.activate_plane_normals(True)"
   ]
  },
  {
   "cell_type": "code",
   "execution_count": null,
   "metadata": {},
   "outputs": [],
   "source": [
    "from scipy.optimize import minimize\n",
    "from Ctubes.opt import obj_and_grad\n",
    "\n",
    "torch.autograd.set_detect_anomaly(False)\n",
    "\n",
    "# Set up optimization configuration\n",
    "opt_prob.configure_optimization_output(paths)\n",
    "\n",
    "# Get initial parameters\n",
    "params0 = opt_prob.get_params_numpy()\n",
    "\n",
    "# Define objective and gradient function for SciPy\n",
    "obj_and_grad_scipy = lambda params: obj_and_grad(params, opt_prob)\n",
    "\n",
    "# Fix variables via double-sided bounds\n",
    "fixed_indices = []  # no fixed DOF by default\n",
    "dofs = opt_prob.get_dof_indices_plane_normals()\n",
    "fixed_indices += dofs[:6] + dofs[-6:]  # fix first two and last two plane normals\n",
    "fixed_indices += [dofs[i] for i in range(1, 3*M - 1, 3)]  # fix y component of all plane normals\n",
    "\n",
    "# dofs = opt_prob.get_dof_indices_apex_loc_func()\n",
    "# fixed_indices += [dofs[0]] + [dofs[-1]]  # fix first and last apex loc func\n",
    "fixed_indices = list(set(fixed_indices))  # remove duplicates\n",
    "fixed_indices = sorted(fixed_indices)\n",
    "\n",
    "bounds = [(None, None)] * len(params0)\n",
    "for idx in fixed_indices:\n",
    "    bounds[idx] = (params0[idx], params0[idx])\n",
    "print(f\"Fixing {len(fixed_indices)} parameters.\")\n",
    "\n",
    "# Add initial state to history\n",
    "opt_prob.add_objective_to_history()"
   ]
  },
  {
   "cell_type": "code",
   "execution_count": null,
   "metadata": {},
   "outputs": [],
   "source": [
    "# Run optimization\n",
    "start_time = time.time()\n",
    "result = minimize(\n",
    "    obj_and_grad_scipy, \n",
    "    params0, \n",
    "    jac=True, \n",
    "    method='L-BFGS-B',\n",
    "    options={'ftol': 1.0e-10, 'gtol': 1.0e-5, 'disp': True, 'maxiter': 1000},\n",
    "    bounds=bounds,\n",
    "    callback=opt_prob.optimization_callback,\n",
    ")\n",
    "result.execution_time = time.time() - start_time\n",
    "\n",
    "# Finalize optimization (save results, render videos, cleanup)\n",
    "opt_prob.finalize_optimization(result)"
   ]
  },
  {
   "cell_type": "code",
   "execution_count": null,
   "metadata": {},
   "outputs": [],
   "source": [
    "opt_prob.compute_objective(print_to_console=True)"
   ]
  },
  {
   "cell_type": "code",
   "execution_count": null,
   "metadata": {},
   "outputs": [],
   "source": [
    "fig, ax = opt_prob.plot_objective_history()"
   ]
  },
  {
   "cell_type": "code",
   "execution_count": null,
   "metadata": {},
   "outputs": [],
   "source": [
    "fig, ax = opt_prob.plot_3d()"
   ]
  },
  {
   "cell_type": "code",
   "execution_count": null,
   "metadata": {},
   "outputs": [],
   "source": [
    "fig, ax = opt_prob.plot_unrolled_strips()"
   ]
  },
  {
   "cell_type": "code",
   "execution_count": null,
   "metadata": {},
   "outputs": [],
   "source": [
    "fig, ax = opt_prob.plot_cross_section_radii()"
   ]
  },
  {
   "cell_type": "code",
   "execution_count": null,
   "metadata": {},
   "outputs": [],
   "source": [
    "fig, ax = opt_prob.plot_apex_loc_func()"
   ]
  },
  {
   "cell_type": "code",
   "execution_count": null,
   "metadata": {},
   "outputs": [],
   "source": []
  }
 ],
 "metadata": {
  "kernelspec": {
   "display_name": "dev_tube_env",
   "language": "python",
   "name": "python3"
  },
  "language_info": {
   "codemirror_mode": {
    "name": "ipython",
    "version": 3
   },
   "file_extension": ".py",
   "mimetype": "text/x-python",
   "name": "python",
   "nbconvert_exporter": "python",
   "pygments_lexer": "ipython3",
   "version": "3.11.10"
  }
 },
 "nbformat": 4,
 "nbformat_minor": 2
}
